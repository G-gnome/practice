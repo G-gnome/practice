{
 "cells": [
  {
   "cell_type": "markdown",
   "metadata": {},
   "source": [
    "Write a Python function that takes a list of numbers and returns a new list containing only the even numbers, squared.\n"
   ]
  },
  {
   "cell_type": "code",
   "execution_count": null,
   "metadata": {},
   "outputs": [
    {
     "name": "stdout",
     "output_type": "stream",
     "text": [
      "[4, 16, 36]\n"
     ]
    }
   ],
   "source": [
    "# my answer\n",
    "nums = [1, 2, 3, 4, 5, 6]\n",
    "output = []\n",
    "\n",
    "for num in nums:\n",
    "    if num % 2 == 0:\n",
    "        output.append(num * num)\n",
    "print(output)"
   ]
  },
  {
   "cell_type": "code",
   "execution_count": 1,
   "metadata": {},
   "outputs": [
    {
     "name": "stdout",
     "output_type": "stream",
     "text": [
      "[4, 16, 36]\n"
     ]
    }
   ],
   "source": [
    "# Better answer\n",
    "nums = [1, 2, 3, 4, 5, 6]\n",
    "output = [num * num for num in nums if num % 2 == 0]\n",
    "print(output)"
   ]
  },
  {
   "cell_type": "code",
   "execution_count": null,
   "metadata": {},
   "outputs": [
    {
     "name": "stdout",
     "output_type": "stream",
     "text": [
      "{'Bob': 85, 'Charlie': 105}\n"
     ]
    }
   ],
   "source": [
    "students = {\n",
    "    \"Alice\": 55,\n",
    "    \"Bob\": 75,\n",
    "    \"Charlie\": 95,\n",
    "    \"David\": 40\n",
    "}\n",
    "\n",
    "output = {}\n",
    "\n",
    "for student, grade in students.items():\n",
    "    if grade >= 60:\n",
    "        output[student] = grade + 10\n",
    "print(output)\n"
   ]
  },
  {
   "cell_type": "code",
   "execution_count": 18,
   "metadata": {},
   "outputs": [
    {
     "name": "stdout",
     "output_type": "stream",
     "text": [
      "aceg\n"
     ]
    }
   ],
   "source": [
    "input_string = \"abcdefg\"\n",
    "empty_string = \"\"\n",
    "i = 0\n",
    "\n",
    "for letter in input_string:\n",
    "    if i % 2 == 0: \n",
    "        empty_string += letter\n",
    "    i += 1\n",
    "print(empty_string)"
   ]
  },
  {
   "cell_type": "code",
   "execution_count": 6,
   "metadata": {},
   "outputs": [
    {
     "data": {
      "text/plain": [
       "[1, 3, 5, 7, 9]"
      ]
     },
     "execution_count": 6,
     "metadata": {},
     "output_type": "execute_result"
    }
   ],
   "source": [
    "numbers = [1, 2, 3, 4, 5, 6, 7, 8, 9]\n",
    "num = [number for number in numbers if number % 2 != 0]\n",
    "num"
   ]
  },
  {
   "cell_type": "code",
   "execution_count": 8,
   "metadata": {},
   "outputs": [
    {
     "name": "stdout",
     "output_type": "stream",
     "text": [
      "[6, 15, 24]\n"
     ]
    }
   ],
   "source": [
    "matrix = [\n",
    "    [1, 2, 3],\n",
    "    [4, 5, 6],\n",
    "    [7, 8, 9]\n",
    "]\n",
    "output = []\n",
    "for list in matrix:\n",
    "    output.append(sum(list))\n",
    "print(output)\n"
   ]
  },
  {
   "cell_type": "code",
   "execution_count": null,
   "metadata": {},
   "outputs": [
    {
     "name": "stdout",
     "output_type": "stream",
     "text": [
      "{'Alice': 65, 'Charlie': 55}\n"
     ]
    }
   ],
   "source": [
    "scores = {\n",
    "    \"Alice\": 55,\n",
    "    \"Bob\": 75,\n",
    "    \"Charlie\": 45,\n",
    "    \"David\": 80\n",
    "}\n",
    "\n",
    "new_scores = {}\n",
    "\n",
    "for name, grade in scores.items():\n",
    "    if grade <= 60:\n",
    "        new_scores[name] = grade + 10\n",
    "print(new_scores)"
   ]
  },
  {
   "cell_type": "code",
   "execution_count": 17,
   "metadata": {},
   "outputs": [
    {
     "name": "stdout",
     "output_type": "stream",
     "text": [
      "Hll, Wrld!\n"
     ]
    }
   ],
   "source": [
    "input_string = \"Hello, World!\"\n",
    "empty_string = \"\"\n",
    "vowels = ['a', 'e', 'i', 'o', 'u']\n",
    "\n",
    "for letter in input_string:\n",
    "    if letter.lower() not in vowels:  # Checking if the letter is not a vowel\n",
    "        empty_string += letter\n",
    "print(empty_string)"
   ]
  },
  {
   "cell_type": "code",
   "execution_count": 25,
   "metadata": {},
   "outputs": [
    {
     "name": "stdout",
     "output_type": "stream",
     "text": [
      "{'a': 4, 'b': 2, 'c': 2}\n"
     ]
    }
   ],
   "source": [
    "input_string = \"aabbccaa\"\n",
    "dict ={}\n",
    "for char in input_string:\n",
    "    if char in dict: \n",
    "        dict[char] += 1\n",
    "    else:\n",
    "        dict[char] = 1\n",
    "print(dict)\n"
   ]
  },
  {
   "cell_type": "code",
   "execution_count": 38,
   "metadata": {},
   "outputs": [
    {
     "name": "stdout",
     "output_type": "stream",
     "text": [
      "True\n"
     ]
    }
   ],
   "source": [
    "input_string = \"A man a plan a canal Panama\"\n",
    "def process_string(input):\n",
    "    no_spaces = input_string.replace(\" \", \"\")\n",
    "    lowercased = no_spaces.lower()\n",
    "    return lowercased\n",
    "\n",
    "processed = process_string(input_string)\n",
    "processed == processed[::-1]\n",
    "if processed == processed[::-1]:\n",
    "    print(True)\n",
    "else:\n",
    "    print(False)"
   ]
  },
  {
   "cell_type": "code",
   "execution_count": 22,
   "metadata": {},
   "outputs": [
    {
     "data": {
      "text/plain": [
       "45"
      ]
     },
     "execution_count": 22,
     "metadata": {},
     "output_type": "execute_result"
    }
   ],
   "source": [
    "numbers = [10, 20, 4, 45, 99]\n",
    "\n",
    "numbers.sort()\n",
    "\n",
    "numbers[-2]\n",
    "    \n"
   ]
  },
  {
   "cell_type": "code",
   "execution_count": 35,
   "metadata": {},
   "outputs": [
    {
     "name": "stdout",
     "output_type": "stream",
     "text": [
      "banana\n",
      "strawberry\n"
     ]
    }
   ],
   "source": [
    "words = [\"apple\", \"banana\", \"kiwi\", \"strawberry\", \"grape\"]\n",
    "# Expected output: [\"banana\", \"strawberry\"]\n",
    "i = 0\n",
    "for fruit in words:\n",
    "    for char in fruit:\n",
    "        i += 1\n",
    "    if i > 5:\n",
    "        print(fruit)\n",
    "        i = 0\n",
    "    else:\n",
    "        i = 0\n"
   ]
  },
  {
   "cell_type": "code",
   "execution_count": 37,
   "metadata": {},
   "outputs": [
    {
     "data": {
      "text/plain": [
       "[2, 4, 6, 8, 10]"
      ]
     },
     "execution_count": 37,
     "metadata": {},
     "output_type": "execute_result"
    }
   ],
   "source": [
    "nums = [1, 2, 3, 4, 5]\n",
    "# Expected output: [2, 4, 6, 8, 10]\n",
    "# Write a function that takes a list of numbers and returns a new list with each number doubled.\n",
    "numbers=[num * 2 for num in nums]\n",
    "numbers\n",
    "\n"
   ]
  },
  {
   "cell_type": "code",
   "execution_count": 47,
   "metadata": {},
   "outputs": [
    {
     "name": "stdout",
     "output_type": "stream",
     "text": [
      "{'b': 1, 'a': 3, 'n': 2}\n"
     ]
    }
   ],
   "source": [
    "# Write a function that takes a string and returns a dictionary where the keys are characters in the string and the values are the number of times each character appears.\n",
    "\n",
    "input_string = \"banana\"\n",
    "# Expected output: {'b': 1, 'a': 3, 'n': 2}\n",
    "\n",
    "empty = {}\n",
    "for char in input_string:\n",
    "    if char in empty:\n",
    "        empty[char] += 1\n",
    "    else:\n",
    "        empty[char] = 1\n",
    "print(empty)\n"
   ]
  },
  {
   "cell_type": "code",
   "execution_count": 49,
   "metadata": {},
   "outputs": [
    {
     "name": "stdout",
     "output_type": "stream",
     "text": [
      "3\n",
      "5\n",
      "7\n",
      "9\n"
     ]
    }
   ],
   "source": [
    "# return the prime numbers\n",
    "input_list = [2, 3, 4, 5, 6, 7, 8, 9, 10]\n",
    "# Expected output: [2, 3, 5, 7]\n",
    "\n",
    "for num in input_list: \n",
    "    if num % 2 != 0:\n",
    "        print(num)\n",
    "        "
   ]
  },
  {
   "cell_type": "code",
   "execution_count": 6,
   "metadata": {},
   "outputs": [
    {
     "name": "stdout",
     "output_type": "stream",
     "text": [
      "{'this': 2, 'is': 2, 'a': 2, 'test': 2, 'only': 1}\n"
     ]
    }
   ],
   "source": [
    "input_string = \"this is a test this is only a test\"\n",
    "# Expected output: {'this': 2, 'is': 2, 'a': 2, 'test': 2, 'only': 1}\n",
    "# Write a function that takes a string and returns a dictionary with the count of each word in the string.\n",
    "split_list = input_string.split(\" \")\n",
    "empty_dict = {}\n",
    "\n",
    "for item in split_list:\n",
    "    if item in empty_dict: \n",
    "        empty_dict[item] += 1\n",
    "    else:\n",
    "        empty_dict[item] = 1\n",
    "\n",
    "print(empty_dict)\n"
   ]
  },
  {
   "cell_type": "code",
   "execution_count": null,
   "metadata": {},
   "outputs": [
    {
     "name": "stdout",
     "output_type": "stream",
     "text": [
      "[3, 5, 7, 9, 11]\n"
     ]
    }
   ],
   "source": [
    "input_list = [2, 3, 4, 5, 6, 7, 8, 9, 10, 11]\n",
    "# Expected output: [2, 3, 5, 7, 11]\n",
    "list = []\n",
    "for item in input_list: \n",
    "    if item % 2 != 0:\n",
    "        list.append(item)\n",
    "print(list)"
   ]
  },
  {
   "cell_type": "code",
   "execution_count": null,
   "metadata": {},
   "outputs": [],
   "source": [
    "numbers = [1, 2, 2, 3, 4, 4, 5]\n"
   ]
  },
  {
   "cell_type": "code",
   "execution_count": null,
   "metadata": {},
   "outputs": [
    {
     "name": "stdout",
     "output_type": "stream",
     "text": [
      "jumped\n"
     ]
    }
   ],
   "source": [
    "sentence = \"The quick brown fox jumped over the lazy dog\"\n",
    "split_sentence = sentence.split(\" \")\n",
    "count = []\n",
    "\n",
    "for word in split_sentence:\n",
    "    count.append(len(word))\n",
    "max_value = max(count)\n",
    "index = count.index(max_value)\n",
    "print(split_sentence[index])\n",
    "        "
   ]
  },
  {
   "cell_type": "code",
   "execution_count": null,
   "metadata": {},
   "outputs": [
    {
     "name": "stdout",
     "output_type": "stream",
     "text": [
      "1\n"
     ]
    }
   ],
   "source": [
    "input_string_one = \"abacabad\"\n",
    "\n",
    "input_string_two = \"aabbcc\"\n",
    "\n",
    "\n",
    "def first_non_repeated(str):\n",
    "    dict = {}\n",
    "    string=[]\n",
    "    for char in str:\n",
    "        string.append(char)\n",
    "        count = string.count(char)\n",
    "        dict[char] = count        \n",
    "    return dict\n",
    "\n",
    "\n",
    "print(first_non_repeated(input_string_one))\n"
   ]
  }
 ],
 "metadata": {
  "kernelspec": {
   "display_name": "Python 3",
   "language": "python",
   "name": "python3"
  },
  "language_info": {
   "codemirror_mode": {
    "name": "ipython",
    "version": 3
   },
   "file_extension": ".py",
   "mimetype": "text/x-python",
   "name": "python",
   "nbconvert_exporter": "python",
   "pygments_lexer": "ipython3",
   "version": "3.6.8"
  }
 },
 "nbformat": 4,
 "nbformat_minor": 2
}
