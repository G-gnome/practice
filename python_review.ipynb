{
 "cells": [
  {
   "cell_type": "markdown",
   "metadata": {},
   "source": [
    "Write a Python function that takes a list of numbers and returns a new list containing only the even numbers, squared.\n"
   ]
  },
  {
   "cell_type": "code",
   "execution_count": null,
   "metadata": {},
   "outputs": [
    {
     "name": "stdout",
     "output_type": "stream",
     "text": [
      "[4, 16, 36]\n"
     ]
    }
   ],
   "source": [
    "# my answer\n",
    "nums = [1, 2, 3, 4, 5, 6]\n",
    "output = []\n",
    "\n",
    "for num in nums:\n",
    "    if num % 2 == 0:\n",
    "        output.append(num * num)\n",
    "print(output)"
   ]
  },
  {
   "cell_type": "code",
   "execution_count": 1,
   "metadata": {},
   "outputs": [
    {
     "name": "stdout",
     "output_type": "stream",
     "text": [
      "[4, 16, 36]\n"
     ]
    }
   ],
   "source": [
    "# Better answer\n",
    "nums = [1, 2, 3, 4, 5, 6]\n",
    "output = [num * num for num in nums if num % 2 == 0]\n",
    "print(output)"
   ]
  },
  {
   "cell_type": "code",
   "execution_count": null,
   "metadata": {},
   "outputs": [
    {
     "name": "stdout",
     "output_type": "stream",
     "text": [
      "{'Bob': 85, 'Charlie': 105}\n"
     ]
    }
   ],
   "source": [
    "students = {\n",
    "    \"Alice\": 55,\n",
    "    \"Bob\": 75,\n",
    "    \"Charlie\": 95,\n",
    "    \"David\": 40\n",
    "}\n",
    "\n",
    "output = {}\n",
    "\n",
    "for student, grade in students.items():\n",
    "    if grade >= 60:\n",
    "        output[student] = grade + 10\n",
    "print(output)\n"
   ]
  },
  {
   "cell_type": "code",
   "execution_count": 18,
   "metadata": {},
   "outputs": [
    {
     "name": "stdout",
     "output_type": "stream",
     "text": [
      "aceg\n"
     ]
    }
   ],
   "source": [
    "input_string = \"abcdefg\"\n",
    "empty_string = \"\"\n",
    "i = 0\n",
    "\n",
    "for letter in input_string:\n",
    "    if i % 2 == 0: \n",
    "        empty_string += letter\n",
    "    i += 1\n",
    "print(empty_string)"
   ]
  },
  {
   "cell_type": "code",
   "execution_count": 6,
   "metadata": {},
   "outputs": [
    {
     "data": {
      "text/plain": [
       "[1, 3, 5, 7, 9]"
      ]
     },
     "execution_count": 6,
     "metadata": {},
     "output_type": "execute_result"
    }
   ],
   "source": [
    "numbers = [1, 2, 3, 4, 5, 6, 7, 8, 9]\n",
    "num = [number for number in numbers if number % 2 != 0]\n",
    "num"
   ]
  },
  {
   "cell_type": "code",
   "execution_count": 8,
   "metadata": {},
   "outputs": [
    {
     "name": "stdout",
     "output_type": "stream",
     "text": [
      "[6, 15, 24]\n"
     ]
    }
   ],
   "source": [
    "matrix = [\n",
    "    [1, 2, 3],\n",
    "    [4, 5, 6],\n",
    "    [7, 8, 9]\n",
    "]\n",
    "output = []\n",
    "for list in matrix:\n",
    "    output.append(sum(list))\n",
    "print(output)\n"
   ]
  },
  {
   "cell_type": "code",
   "execution_count": null,
   "metadata": {},
   "outputs": [
    {
     "name": "stdout",
     "output_type": "stream",
     "text": [
      "{'Alice': 65, 'Charlie': 55}\n"
     ]
    }
   ],
   "source": [
    "scores = {\n",
    "    \"Alice\": 55,\n",
    "    \"Bob\": 75,\n",
    "    \"Charlie\": 45,\n",
    "    \"David\": 80\n",
    "}\n",
    "\n",
    "new_scores = {}\n",
    "\n",
    "for name, grade in scores.items():\n",
    "    if grade <= 60:\n",
    "        new_scores[name] = grade + 10\n",
    "print(new_scores)"
   ]
  },
  {
   "cell_type": "code",
   "execution_count": 17,
   "metadata": {},
   "outputs": [
    {
     "name": "stdout",
     "output_type": "stream",
     "text": [
      "Hll, Wrld!\n"
     ]
    }
   ],
   "source": [
    "input_string = \"Hello, World!\"\n",
    "empty_string = \"\"\n",
    "vowels = ['a', 'e', 'i', 'o', 'u']\n",
    "\n",
    "for letter in input_string:\n",
    "    if letter.lower() not in vowels:  # Checking if the letter is not a vowel\n",
    "        empty_string += letter\n",
    "print(empty_string)"
   ]
  },
  {
   "cell_type": "code",
   "execution_count": 25,
   "metadata": {},
   "outputs": [
    {
     "name": "stdout",
     "output_type": "stream",
     "text": [
      "{'a': 4, 'b': 2, 'c': 2}\n"
     ]
    }
   ],
   "source": [
    "input_string = \"aabbccaa\"\n",
    "dict ={}\n",
    "for char in input_string:\n",
    "    if char in dict: \n",
    "        dict[char] += 1\n",
    "    else:\n",
    "        dict[char] = 1\n",
    "print(dict)\n"
   ]
  },
  {
   "cell_type": "code",
   "execution_count": 38,
   "metadata": {},
   "outputs": [
    {
     "name": "stdout",
     "output_type": "stream",
     "text": [
      "True\n"
     ]
    }
   ],
   "source": [
    "input_string = \"A man a plan a canal Panama\"\n",
    "def process_string(input):\n",
    "    no_spaces = input_string.replace(\" \", \"\")\n",
    "    lowercased = no_spaces.lower()\n",
    "    return lowercased\n",
    "\n",
    "processed = process_string(input_string)\n",
    "processed == processed[::-1]\n",
    "if processed == processed[::-1]:\n",
    "    print(True)\n",
    "else:\n",
    "    print(False)"
   ]
  },
  {
   "cell_type": "code",
   "execution_count": 22,
   "metadata": {},
   "outputs": [
    {
     "data": {
      "text/plain": [
       "45"
      ]
     },
     "execution_count": 22,
     "metadata": {},
     "output_type": "execute_result"
    }
   ],
   "source": [
    "numbers = [10, 20, 4, 45, 99]\n",
    "\n",
    "numbers.sort()\n",
    "\n",
    "numbers[-2]\n",
    "    \n"
   ]
  },
  {
   "cell_type": "code",
   "execution_count": 35,
   "metadata": {},
   "outputs": [
    {
     "name": "stdout",
     "output_type": "stream",
     "text": [
      "banana\n",
      "strawberry\n"
     ]
    }
   ],
   "source": [
    "words = [\"apple\", \"banana\", \"kiwi\", \"strawberry\", \"grape\"]\n",
    "# Expected output: [\"banana\", \"strawberry\"]\n",
    "i = 0\n",
    "for fruit in words:\n",
    "    for char in fruit:\n",
    "        i += 1\n",
    "    if i > 5:\n",
    "        print(fruit)\n",
    "        i = 0\n",
    "    else:\n",
    "        i = 0\n"
   ]
  },
  {
   "cell_type": "code",
   "execution_count": 37,
   "metadata": {},
   "outputs": [
    {
     "data": {
      "text/plain": [
       "[2, 4, 6, 8, 10]"
      ]
     },
     "execution_count": 37,
     "metadata": {},
     "output_type": "execute_result"
    }
   ],
   "source": [
    "nums = [1, 2, 3, 4, 5]\n",
    "# Expected output: [2, 4, 6, 8, 10]\n",
    "# Write a function that takes a list of numbers and returns a new list with each number doubled.\n",
    "numbers=[num * 2 for num in nums]\n",
    "numbers\n",
    "\n"
   ]
  },
  {
   "cell_type": "code",
   "execution_count": 47,
   "metadata": {},
   "outputs": [
    {
     "name": "stdout",
     "output_type": "stream",
     "text": [
      "{'b': 1, 'a': 3, 'n': 2}\n"
     ]
    }
   ],
   "source": [
    "# Write a function that takes a string and returns a dictionary where the keys are characters in the string and the values are the number of times each character appears.\n",
    "\n",
    "input_string = \"banana\"\n",
    "# Expected output: {'b': 1, 'a': 3, 'n': 2}\n",
    "\n",
    "empty = {}\n",
    "for char in input_string:\n",
    "    if char in empty:\n",
    "        empty[char] += 1\n",
    "    else:\n",
    "        empty[char] = 1\n",
    "print(empty)\n"
   ]
  },
  {
   "cell_type": "code",
   "execution_count": 49,
   "metadata": {},
   "outputs": [
    {
     "name": "stdout",
     "output_type": "stream",
     "text": [
      "3\n",
      "5\n",
      "7\n",
      "9\n"
     ]
    }
   ],
   "source": [
    "# return the prime numbers\n",
    "input_list = [2, 3, 4, 5, 6, 7, 8, 9, 10]\n",
    "# Expected output: [2, 3, 5, 7]\n",
    "\n",
    "for num in input_list: \n",
    "    if num % 2 != 0:\n",
    "        print(num)\n",
    "        "
   ]
  },
  {
   "cell_type": "code",
   "execution_count": 6,
   "metadata": {},
   "outputs": [
    {
     "name": "stdout",
     "output_type": "stream",
     "text": [
      "{'this': 2, 'is': 2, 'a': 2, 'test': 2, 'only': 1}\n"
     ]
    }
   ],
   "source": [
    "input_string = \"this is a test this is only a test\"\n",
    "# Expected output: {'this': 2, 'is': 2, 'a': 2, 'test': 2, 'only': 1}\n",
    "# Write a function that takes a string and returns a dictionary with the count of each word in the string.\n",
    "split_list = input_string.split(\" \")\n",
    "empty_dict = {}\n",
    "\n",
    "for item in split_list:\n",
    "    if item in empty_dict: \n",
    "        empty_dict[item] += 1\n",
    "    else:\n",
    "        empty_dict[item] = 1\n",
    "\n",
    "print(empty_dict)\n"
   ]
  },
  {
   "cell_type": "code",
   "execution_count": null,
   "metadata": {},
   "outputs": [
    {
     "name": "stdout",
     "output_type": "stream",
     "text": [
      "[3, 5, 7, 9, 11]\n"
     ]
    }
   ],
   "source": [
    "input_list = [2, 3, 4, 5, 6, 7, 8, 9, 10, 11]\n",
    "# Expected output: [2, 3, 5, 7, 11]\n",
    "list = []\n",
    "for item in input_list: \n",
    "    if item % 2 != 0:\n",
    "        list.append(item)\n",
    "print(list)"
   ]
  },
  {
   "cell_type": "code",
   "execution_count": null,
   "metadata": {},
   "outputs": [],
   "source": [
    "numbers = [1, 2, 2, 3, 4, 4, 5]\n"
   ]
  },
  {
   "cell_type": "code",
   "execution_count": null,
   "metadata": {},
   "outputs": [
    {
     "name": "stdout",
     "output_type": "stream",
     "text": [
      "jumped\n"
     ]
    }
   ],
   "source": [
    "sentence = \"The quick brown fox jumped over the lazy dog\"\n",
    "split_sentence = sentence.split(\" \")\n",
    "count = []\n",
    "\n",
    "for word in split_sentence:\n",
    "    count.append(len(word))\n",
    "max_value = max(count)\n",
    "index = count.index(max_value)\n",
    "print(split_sentence[index])\n",
    "        "
   ]
  },
  {
   "cell_type": "code",
   "execution_count": 17,
   "metadata": {},
   "outputs": [
    {
     "name": "stdout",
     "output_type": "stream",
     "text": [
      "c\n",
      "None\n"
     ]
    }
   ],
   "source": [
    "input_string_one = \"abacabad\"\n",
    "\n",
    "input_string_two = \"aabbcc\"\n",
    "\n",
    "\n",
    "def first_non_repeated(s):\n",
    "    char_count = {}\n",
    "    for char in s:\n",
    "        char_count[char] = char_count.get(char, 0) + 1  \n",
    "    for char in s: \n",
    "        if char_count[char] == 1:\n",
    "            return char\n",
    "\n",
    "\n",
    "print(first_non_repeated(input_string_one))\n",
    "print(first_non_repeated(input_string_two))\n",
    "\n"
   ]
  },
  {
   "cell_type": "code",
   "execution_count": null,
   "metadata": {},
   "outputs": [
    {
     "data": {
      "text/plain": [
       "False"
      ]
     },
     "execution_count": 27,
     "metadata": {},
     "output_type": "execute_result"
    }
   ],
   "source": [
    "\n",
    "\n",
    "#Write a function that takes a list of integers and returns True if there are any duplicate numbers, otherwise returns False.\n",
    "\n",
    "def has_duplicates(i):\n",
    "    int_count = {}\n",
    "    for integer in i:\n",
    "        int_count[integer] = int_count.get(integer, 0) + 1\n",
    "    for integer, count in int_count.items():\n",
    "        if int_count[integer] > 1:\n",
    "            return True\n",
    "    return False\n",
    "\n",
    "has_duplicates([1, 2, 3, 4, 5])  # Output: False  \n",
    "has_duplicates([1, 2, 3, 4, 1])  # Output: True  \n"
   ]
  },
  {
   "cell_type": "code",
   "execution_count": 42,
   "metadata": {},
   "outputs": [
    {
     "name": "stdout",
     "output_type": "stream",
     "text": [
      "3\n",
      "6\n",
      "7\n"
     ]
    }
   ],
   "source": [
    "def find_missing_number(i):\n",
    "    n = len(i) + 1  # Since one number is missing\n",
    "    expected_sum = n * (n + 1) // 2  # Sum formula for first n natural numbers\n",
    "    actual_sum = sum(i)\n",
    "    return expected_sum - actual_sum\n",
    "\n",
    "print(find_missing_number([1, 2, 4, 5]))  # Output: 3\n",
    "print(find_missing_number([3, 7, 1, 2, 8, 4, 5]))  # Output: 6\n",
    "print(find_missing_number([1, 2, 3, 4, 5, 6, 8]))  # Output: 7\n"
   ]
  },
  {
   "cell_type": "code",
   "execution_count": 46,
   "metadata": {},
   "outputs": [
    {
     "name": "stdout",
     "output_type": "stream",
     "text": [
      "3\n",
      "None\n",
      "7\n"
     ]
    }
   ],
   "source": [
    "\n",
    "def first_repeating(i):\n",
    "    unique_numbers = set()\n",
    "    for num in i: \n",
    "        if num not in unique_numbers:\n",
    "            unique_numbers.add(num)\n",
    "        else: \n",
    "            return num\n",
    "\n",
    "\n",
    "print(first_repeating([1, 2, 3, 5, 3, 2, 1]))  # Output: 3\n",
    "print(first_repeating([1, 2, 3, 4, 5]))        # Output: None\n",
    "print(first_repeating([7, 8, 9, 7, 10, 9]))    # Output: 7\n",
    "\n"
   ]
  },
  {
   "cell_type": "code",
   "execution_count": 55,
   "metadata": {},
   "outputs": [
    {
     "name": "stdout",
     "output_type": "stream",
     "text": [
      "[4, 5, 1, 2, 3]\n",
      "[0, 1, 2]\n"
     ]
    }
   ],
   "source": [
    "\n",
    "def rotate_list(l, k):\n",
    "    first_slice = l[:-k]\n",
    "    second_slice = l[-k:]\n",
    "    second_slice.extend(first_slice)\n",
    "    return(second_slice)\n",
    "\n",
    "print(rotate_list([1, 2, 3, 4, 5], 2))\n",
    "print(rotate_list([0, 1, 2], 4))        # Output: [2, 0, 1]"
   ]
  },
  {
   "cell_type": "code",
   "execution_count": 63,
   "metadata": {},
   "outputs": [
    {
     "name": "stdout",
     "output_type": "stream",
     "text": [
      "CPU times: user 21 µs, sys: 2 µs, total: 23 µs\n",
      "Wall time: 25.5 µs\n"
     ]
    },
    {
     "data": {
      "text/plain": [
       "({1, 2, 3}, set(), {1, 2, 3})"
      ]
     },
     "execution_count": 63,
     "metadata": {},
     "output_type": "execute_result"
    }
   ],
   "source": [
    "\n",
    "%%time\n",
    "\n",
    "def merge_sorted_lists(l, n):\n",
    "    lset = set(l)\n",
    "    nset = set(n)\n",
    "    return lset.union(nset), lset, nset\n",
    "\n",
    "merge_sorted_lists([1, 3, 5, 7], [2, 4, 6, 8])  # Output: [1, 2, 3, 4, 5, 6, 7, 8]\n",
    "merge_sorted_lists([1, 10, 20], [5, 15])        # Output: [1, 5, 10, 15, 20]\n",
    "merge_sorted_lists([], [1, 2, 3])               # Output: [1, 2, 3]\n",
    "\n"
   ]
  },
  {
   "cell_type": "code",
   "execution_count": null,
   "metadata": {},
   "outputs": [],
   "source": []
  },
  {
   "cell_type": "code",
   "execution_count": 85,
   "metadata": {},
   "outputs": [
    {
     "name": "stdout",
     "output_type": "stream",
     "text": [
      "[2, 2]\n"
     ]
    }
   ],
   "source": [
    "array1 = [1, 2, 2, 1]\n",
    "array2 = [2, 2]\n",
    "\n",
    "\n",
    "def intersection_finder(a1, a2):\n",
    "    index_a1 = {}\n",
    "    index_a2 = {}\n",
    "    for num in a1: \n",
    "        index_a1[num] = index_a1.get(num, 0) + 1\n",
    "    for num in a2: \n",
    "        index_a2[num] = index_a2.get(num, 0) + 1\n",
    "    intersection = []\n",
    "    for num in index_a1:\n",
    "        if num in index_a2:\n",
    "            count = min(index_a1[num], index_a2[num])\n",
    "            intersection.extend([num] * count)\n",
    "    return intersection\n",
    "\n",
    "    \n",
    "print(intersection_finder(array1, array2))\n"
   ]
  },
  {
   "cell_type": "code",
   "execution_count": null,
   "metadata": {},
   "outputs": [
    {
     "name": "stdout",
     "output_type": "stream",
     "text": [
      "[['eat', 'tea', 'ate'], ['tan', 'nat'], ['bat']]\n"
     ]
    }
   ],
   "source": [
    "input = [\"eat\", \"tea\", \"tan\", \"ate\", \"nat\", \"bat\"]\n",
    "#output = [[\"eat\", \"tea\", \"ate\"], [\"tan\", \"nat\"], [\"bat\"]]\n",
    "def find_anagrams(i):\n",
    "    words_sorted = {}\n",
    "    for word in i:\n",
    "        sorted_word = \"\".join(sorted(word))  # join the items of the list\n",
    "        if sorted_word in words_sorted:\n",
    "            words_sorted[sorted_word].append(word)  # Add word to existing list of words\n",
    "        else: \n",
    "            words_sorted[sorted_word] = [word]  # create a list of words in the dictionary corresponding to a sorted word\n",
    "    return list(words_sorted.values()) # return the values associated with this.\n",
    "\n",
    "result = find_anagrams(input)\n",
    "print(result)\n"
   ]
  },
  {
   "cell_type": "code",
   "execution_count": 101,
   "metadata": {},
   "outputs": [
    {
     "name": "stdout",
     "output_type": "stream",
     "text": [
      "3\n",
      "None\n",
      "7\n"
     ]
    }
   ],
   "source": [
    "def majority_element(l):\n",
    "    n = len(l)\n",
    "    index = {}\n",
    "    for num in l: \n",
    "        index[num] = index.get(num, 0) + 1\n",
    "    for num, count in index.items():\n",
    "        if count > (n / 2):\n",
    "            return num\n",
    "    return \"None\"\n",
    "\n",
    "\n",
    "\n",
    "print(majority_element([3, 3, 4, 2, 3, 3, 3, 1]))  # Output: 3\n",
    "print(majority_element([1, 2, 3, 4, 5]))          # Output: None\n",
    "print(majority_element([7, 7, 7, 7, 2, 2, 7]))    # Output: 7\n",
    "\n",
    "\n"
   ]
  },
  {
   "cell_type": "code",
   "execution_count": 5,
   "metadata": {},
   "outputs": [
    {
     "name": "stdout",
     "output_type": "stream",
     "text": [
      "4\n"
     ]
    }
   ],
   "source": [
    "nums = [-1, 0, 3, 5, 9, 12]\n",
    "target_num = 9\n",
    "\n",
    "def get_target(l, target):\n",
    "    left = 0\n",
    "    right = len(l) - 1\n",
    "    while left <= right:\n",
    "        midpoint = left + (right - left) // 2 \n",
    "        if target == l[midpoint]:\n",
    "            return midpoint\n",
    "        elif target < l[midpoint]: # search right side\n",
    "            right = midpoint - 1 # slide window to the right for search\n",
    "        else:\n",
    "            left = midpoint + 1\n",
    "    return -1\n",
    "\n",
    "print(get_target(nums, target_num))\n",
    "    \n",
    "        "
   ]
  },
  {
   "cell_type": "code",
   "execution_count": 9,
   "metadata": {},
   "outputs": [
    {
     "data": {
      "text/plain": [
       "1"
      ]
     },
     "execution_count": 9,
     "metadata": {},
     "output_type": "execute_result"
    }
   ],
   "source": [
    "nums = [1, 3, 5, 6]\n",
    "target = 2\n",
    "def find_insert_site(l, t):\n",
    "    left = 0\n",
    "    right = len(nums) - 1\n",
    "    while left <= right:\n",
    "        midpoint = left + ( (right - left) // 2 )\n",
    "        if target == l[midpoint]:\n",
    "            return midpoint\n",
    "        elif target < l[midpoint]: # left side search\n",
    "            right = midpoint -1\n",
    "        else:\n",
    "            left = midpoint + 1\n",
    "    return left\n",
    "\n",
    "find_insert_site(nums, target)"
   ]
  },
  {
   "cell_type": "code",
   "execution_count": 1,
   "metadata": {},
   "outputs": [
    {
     "name": "stdout",
     "output_type": "stream",
     "text": [
      "             GeneA      GeneB      GeneC      GeneD      GeneE\n",
      "Sample1  37.454012  95.071431  73.199394  59.865848  15.601864\n",
      "Sample2  15.599452   5.808361  86.617615  60.111501  70.807258\n",
      "Sample3   2.058449  96.990985  83.244264  21.233911  18.182497\n",
      "Sample4  18.340451  30.424224  52.475643  43.194502  29.122914\n",
      "Sample5  61.185289  13.949386  29.214465  36.636184  45.606998\n"
     ]
    }
   ],
   "source": [
    "import pandas as pd\n",
    "import numpy as np\n",
    "\n",
    "# Create mock gene expression data\n",
    "np.random.seed(42)  # For reproducibility\n",
    "\n",
    "genes = ['GeneA', 'GeneB', 'GeneC', 'GeneD', 'GeneE']\n",
    "samples = ['Sample1', 'Sample2', 'Sample3', 'Sample4', 'Sample5']\n",
    "\n",
    "# Generate random gene expression data\n",
    "data = np.random.rand(5, 5) * 100  # Expression values between 0 and 100\n",
    "\n",
    "# Create DataFrame\n",
    "df = pd.DataFrame(data, columns=genes, index=samples)\n",
    "\n",
    "# Display the mock data\n",
    "print(df)\n"
   ]
  },
  {
   "cell_type": "code",
   "execution_count": 3,
   "metadata": {},
   "outputs": [
    {
     "data": {
      "text/plain": [
       "0    1\n",
       "1    2\n",
       "2    3\n",
       "3    4\n",
       "dtype: int64"
      ]
     },
     "execution_count": 3,
     "metadata": {},
     "output_type": "execute_result"
    }
   ],
   "source": [
    "s = pd.Series([1, 2, 3, 4])\n",
    "s"
   ]
  },
  {
   "cell_type": "code",
   "execution_count": null,
   "metadata": {},
   "outputs": [],
   "source": []
  },
  {
   "cell_type": "code",
   "execution_count": 4,
   "metadata": {},
   "outputs": [
    {
     "data": {
      "application/vnd.microsoft.datawrangler.viewer.v0+json": {
       "columns": [
        {
         "name": "index",
         "rawType": "int64",
         "type": "integer"
        },
        {
         "name": "A",
         "rawType": "int64",
         "type": "integer"
        },
        {
         "name": "B",
         "rawType": "int64",
         "type": "integer"
        },
        {
         "name": "C",
         "rawType": "int64",
         "type": "integer"
        },
        {
         "name": "D",
         "rawType": "int64",
         "type": "integer"
        }
       ],
       "conversionMethod": "pd.DataFrame",
       "ref": "00ecc62a-0ef8-451a-935d-404291b7f8ff",
       "rows": [
        [
         "0",
         "1",
         "2",
         "3",
         "4"
        ],
        [
         "1",
         "5",
         "6",
         "7",
         "8"
        ]
       ],
       "shape": {
        "columns": 4,
        "rows": 2
       }
      },
      "text/html": [
       "<div>\n",
       "<style scoped>\n",
       "    .dataframe tbody tr th:only-of-type {\n",
       "        vertical-align: middle;\n",
       "    }\n",
       "\n",
       "    .dataframe tbody tr th {\n",
       "        vertical-align: top;\n",
       "    }\n",
       "\n",
       "    .dataframe thead th {\n",
       "        text-align: right;\n",
       "    }\n",
       "</style>\n",
       "<table border=\"1\" class=\"dataframe\">\n",
       "  <thead>\n",
       "    <tr style=\"text-align: right;\">\n",
       "      <th></th>\n",
       "      <th>A</th>\n",
       "      <th>B</th>\n",
       "      <th>C</th>\n",
       "      <th>D</th>\n",
       "    </tr>\n",
       "  </thead>\n",
       "  <tbody>\n",
       "    <tr>\n",
       "      <th>0</th>\n",
       "      <td>1</td>\n",
       "      <td>2</td>\n",
       "      <td>3</td>\n",
       "      <td>4</td>\n",
       "    </tr>\n",
       "    <tr>\n",
       "      <th>1</th>\n",
       "      <td>5</td>\n",
       "      <td>6</td>\n",
       "      <td>7</td>\n",
       "      <td>8</td>\n",
       "    </tr>\n",
       "  </tbody>\n",
       "</table>\n",
       "</div>"
      ],
      "text/plain": [
       "   A  B  C  D\n",
       "0  1  2  3  4\n",
       "1  5  6  7  8"
      ]
     },
     "execution_count": 4,
     "metadata": {},
     "output_type": "execute_result"
    }
   ],
   "source": [
    "df = pd.DataFrame([[1, 2, 3, 4], [5, 6, 7, 8]], columns=[\"A\", \"B\", \"C\", \"D\"])\n",
    "df"
   ]
  },
  {
   "cell_type": "code",
   "execution_count": null,
   "metadata": {},
   "outputs": [],
   "source": []
  },
  {
   "cell_type": "code",
   "execution_count": 5,
   "metadata": {},
   "outputs": [
    {
     "data": {
      "application/vnd.microsoft.datawrangler.viewer.v0+json": {
       "columns": [
        {
         "name": "index",
         "rawType": "int64",
         "type": "integer"
        },
        {
         "name": "Name",
         "rawType": "object",
         "type": "string"
        },
        {
         "name": "Gender",
         "rawType": "object",
         "type": "string"
        },
        {
         "name": "Age",
         "rawType": "int64",
         "type": "integer"
        }
       ],
       "conversionMethod": "pd.DataFrame",
       "ref": "299ae741-db2b-4456-8ab5-7ce16fcf172e",
       "rows": [
        [
         "0",
         "Alice",
         "F",
         "20"
        ],
        [
         "1",
         "Bob",
         "M",
         "40"
        ],
        [
         "2",
         "Charlie",
         "M",
         "32"
        ],
        [
         "3",
         "Dave",
         "M",
         "31"
        ],
        [
         "4",
         "Eve",
         "F",
         "25"
        ],
        [
         "5",
         "Frank",
         "M",
         "20"
        ],
        [
         "6",
         "Grace",
         "F",
         "40"
        ]
       ],
       "shape": {
        "columns": 3,
        "rows": 7
       }
      },
      "text/html": [
       "<div>\n",
       "<style scoped>\n",
       "    .dataframe tbody tr th:only-of-type {\n",
       "        vertical-align: middle;\n",
       "    }\n",
       "\n",
       "    .dataframe tbody tr th {\n",
       "        vertical-align: top;\n",
       "    }\n",
       "\n",
       "    .dataframe thead th {\n",
       "        text-align: right;\n",
       "    }\n",
       "</style>\n",
       "<table border=\"1\" class=\"dataframe\">\n",
       "  <thead>\n",
       "    <tr style=\"text-align: right;\">\n",
       "      <th></th>\n",
       "      <th>Name</th>\n",
       "      <th>Gender</th>\n",
       "      <th>Age</th>\n",
       "    </tr>\n",
       "  </thead>\n",
       "  <tbody>\n",
       "    <tr>\n",
       "      <th>0</th>\n",
       "      <td>Alice</td>\n",
       "      <td>F</td>\n",
       "      <td>20</td>\n",
       "    </tr>\n",
       "    <tr>\n",
       "      <th>1</th>\n",
       "      <td>Bob</td>\n",
       "      <td>M</td>\n",
       "      <td>40</td>\n",
       "    </tr>\n",
       "    <tr>\n",
       "      <th>2</th>\n",
       "      <td>Charlie</td>\n",
       "      <td>M</td>\n",
       "      <td>32</td>\n",
       "    </tr>\n",
       "    <tr>\n",
       "      <th>3</th>\n",
       "      <td>Dave</td>\n",
       "      <td>M</td>\n",
       "      <td>31</td>\n",
       "    </tr>\n",
       "    <tr>\n",
       "      <th>4</th>\n",
       "      <td>Eve</td>\n",
       "      <td>F</td>\n",
       "      <td>25</td>\n",
       "    </tr>\n",
       "    <tr>\n",
       "      <th>5</th>\n",
       "      <td>Frank</td>\n",
       "      <td>M</td>\n",
       "      <td>20</td>\n",
       "    </tr>\n",
       "    <tr>\n",
       "      <th>6</th>\n",
       "      <td>Grace</td>\n",
       "      <td>F</td>\n",
       "      <td>40</td>\n",
       "    </tr>\n",
       "  </tbody>\n",
       "</table>\n",
       "</div>"
      ],
      "text/plain": [
       "      Name Gender  Age\n",
       "0    Alice      F   20\n",
       "1      Bob      M   40\n",
       "2  Charlie      M   32\n",
       "3     Dave      M   31\n",
       "4      Eve      F   25\n",
       "5    Frank      M   20\n",
       "6    Grace      F   40"
      ]
     },
     "execution_count": 5,
     "metadata": {},
     "output_type": "execute_result"
    }
   ],
   "source": [
    "d = {\n",
    "    \"Name\": [\"Alice\", \"Bob\", \"Charlie\", \"Dave\", \"Eve\", \"Frank\", \"Grace\"],\n",
    "    \"Gender\": [\"F\", \"M\", \"M\", \"M\", \"F\", \"M\", \"F\"],\n",
    "    \"Age\": [20, 40, 32, 31, 25, 20, 40],\n",
    "}\n",
    "\n",
    "df = pd.DataFrame(d)\n",
    "df"
   ]
  },
  {
   "cell_type": "code",
   "execution_count": 6,
   "metadata": {},
   "outputs": [
    {
     "data": {
      "application/vnd.microsoft.datawrangler.viewer.v0+json": {
       "columns": [
        {
         "name": "index",
         "rawType": "int64",
         "type": "integer"
        },
        {
         "name": "Name",
         "rawType": "object",
         "type": "string"
        },
        {
         "name": "Gender",
         "rawType": "object",
         "type": "string"
        },
        {
         "name": "Age",
         "rawType": "int64",
         "type": "integer"
        }
       ],
       "conversionMethod": "pd.DataFrame",
       "ref": "2ef7336e-dab3-4cd5-b803-a76a284cd71f",
       "rows": [
        [
         "0",
         "Alice",
         "F",
         "20"
        ],
        [
         "1",
         "Bob",
         "M",
         "40"
        ],
        [
         "2",
         "Charlie",
         "M",
         "32"
        ],
        [
         "3",
         "Dave",
         "M",
         "31"
        ],
        [
         "4",
         "Eve",
         "F",
         "25"
        ],
        [
         "5",
         "Frank",
         "M",
         "20"
        ],
        [
         "6",
         "Grace",
         "F",
         "40"
        ]
       ],
       "shape": {
        "columns": 3,
        "rows": 7
       }
      },
      "text/html": [
       "<div>\n",
       "<style scoped>\n",
       "    .dataframe tbody tr th:only-of-type {\n",
       "        vertical-align: middle;\n",
       "    }\n",
       "\n",
       "    .dataframe tbody tr th {\n",
       "        vertical-align: top;\n",
       "    }\n",
       "\n",
       "    .dataframe thead th {\n",
       "        text-align: right;\n",
       "    }\n",
       "</style>\n",
       "<table border=\"1\" class=\"dataframe\">\n",
       "  <thead>\n",
       "    <tr style=\"text-align: right;\">\n",
       "      <th></th>\n",
       "      <th>Name</th>\n",
       "      <th>Gender</th>\n",
       "      <th>Age</th>\n",
       "    </tr>\n",
       "  </thead>\n",
       "  <tbody>\n",
       "    <tr>\n",
       "      <th>0</th>\n",
       "      <td>Alice</td>\n",
       "      <td>F</td>\n",
       "      <td>20</td>\n",
       "    </tr>\n",
       "    <tr>\n",
       "      <th>1</th>\n",
       "      <td>Bob</td>\n",
       "      <td>M</td>\n",
       "      <td>40</td>\n",
       "    </tr>\n",
       "    <tr>\n",
       "      <th>2</th>\n",
       "      <td>Charlie</td>\n",
       "      <td>M</td>\n",
       "      <td>32</td>\n",
       "    </tr>\n",
       "    <tr>\n",
       "      <th>3</th>\n",
       "      <td>Dave</td>\n",
       "      <td>M</td>\n",
       "      <td>31</td>\n",
       "    </tr>\n",
       "    <tr>\n",
       "      <th>4</th>\n",
       "      <td>Eve</td>\n",
       "      <td>F</td>\n",
       "      <td>25</td>\n",
       "    </tr>\n",
       "    <tr>\n",
       "      <th>5</th>\n",
       "      <td>Frank</td>\n",
       "      <td>M</td>\n",
       "      <td>20</td>\n",
       "    </tr>\n",
       "    <tr>\n",
       "      <th>6</th>\n",
       "      <td>Grace</td>\n",
       "      <td>F</td>\n",
       "      <td>40</td>\n",
       "    </tr>\n",
       "  </tbody>\n",
       "</table>\n",
       "</div>"
      ],
      "text/plain": [
       "      Name Gender  Age\n",
       "0    Alice      F   20\n",
       "1      Bob      M   40\n",
       "2  Charlie      M   32\n",
       "3     Dave      M   31\n",
       "4      Eve      F   25\n",
       "5    Frank      M   20\n",
       "6    Grace      F   40"
      ]
     },
     "execution_count": 6,
     "metadata": {},
     "output_type": "execute_result"
    }
   ],
   "source": [
    "df2 = pd.DataFrame.from_dict(d)\n",
    "df2"
   ]
  },
  {
   "cell_type": "code",
   "execution_count": 8,
   "metadata": {},
   "outputs": [
    {
     "data": {
      "application/vnd.microsoft.datawrangler.viewer.v0+json": {
       "columns": [
        {
         "name": "index",
         "rawType": "object",
         "type": "string"
        },
        {
         "name": "0",
         "rawType": "object",
         "type": "unknown"
        },
        {
         "name": "1",
         "rawType": "object",
         "type": "unknown"
        },
        {
         "name": "2",
         "rawType": "object",
         "type": "unknown"
        },
        {
         "name": "3",
         "rawType": "object",
         "type": "unknown"
        },
        {
         "name": "4",
         "rawType": "object",
         "type": "unknown"
        },
        {
         "name": "5",
         "rawType": "object",
         "type": "unknown"
        },
        {
         "name": "6",
         "rawType": "object",
         "type": "unknown"
        }
       ],
       "conversionMethod": "pd.DataFrame",
       "ref": "8a30b5f5-ea3c-4e6f-ba90-54c58eaab8e6",
       "rows": [
        [
         "Name",
         "Alice",
         "Bob",
         "Charlie",
         "Dave",
         "Eve",
         "Frank",
         "Grace"
        ],
        [
         "Gender",
         "F",
         "M",
         "M",
         "M",
         "F",
         "M",
         "F"
        ],
        [
         "Age",
         "20",
         "40",
         "32",
         "31",
         "25",
         "20",
         "40"
        ]
       ],
       "shape": {
        "columns": 7,
        "rows": 3
       }
      },
      "text/html": [
       "<div>\n",
       "<style scoped>\n",
       "    .dataframe tbody tr th:only-of-type {\n",
       "        vertical-align: middle;\n",
       "    }\n",
       "\n",
       "    .dataframe tbody tr th {\n",
       "        vertical-align: top;\n",
       "    }\n",
       "\n",
       "    .dataframe thead th {\n",
       "        text-align: right;\n",
       "    }\n",
       "</style>\n",
       "<table border=\"1\" class=\"dataframe\">\n",
       "  <thead>\n",
       "    <tr style=\"text-align: right;\">\n",
       "      <th></th>\n",
       "      <th>0</th>\n",
       "      <th>1</th>\n",
       "      <th>2</th>\n",
       "      <th>3</th>\n",
       "      <th>4</th>\n",
       "      <th>5</th>\n",
       "      <th>6</th>\n",
       "    </tr>\n",
       "  </thead>\n",
       "  <tbody>\n",
       "    <tr>\n",
       "      <th>Name</th>\n",
       "      <td>Alice</td>\n",
       "      <td>Bob</td>\n",
       "      <td>Charlie</td>\n",
       "      <td>Dave</td>\n",
       "      <td>Eve</td>\n",
       "      <td>Frank</td>\n",
       "      <td>Grace</td>\n",
       "    </tr>\n",
       "    <tr>\n",
       "      <th>Gender</th>\n",
       "      <td>F</td>\n",
       "      <td>M</td>\n",
       "      <td>M</td>\n",
       "      <td>M</td>\n",
       "      <td>F</td>\n",
       "      <td>M</td>\n",
       "      <td>F</td>\n",
       "    </tr>\n",
       "    <tr>\n",
       "      <th>Age</th>\n",
       "      <td>20</td>\n",
       "      <td>40</td>\n",
       "      <td>32</td>\n",
       "      <td>31</td>\n",
       "      <td>25</td>\n",
       "      <td>20</td>\n",
       "      <td>40</td>\n",
       "    </tr>\n",
       "  </tbody>\n",
       "</table>\n",
       "</div>"
      ],
      "text/plain": [
       "            0    1        2     3    4      5      6\n",
       "Name    Alice  Bob  Charlie  Dave  Eve  Frank  Grace\n",
       "Gender      F    M        M     M    F      M      F\n",
       "Age        20   40       32    31   25     20     40"
      ]
     },
     "execution_count": 8,
     "metadata": {},
     "output_type": "execute_result"
    }
   ],
   "source": [
    "df3 = pd.DataFrame.from_dict(d, orient=\"index\")\n",
    "df3"
   ]
  },
  {
   "cell_type": "code",
   "execution_count": 17,
   "metadata": {},
   "outputs": [
    {
     "data": {
      "application/vnd.microsoft.datawrangler.viewer.v0+json": {
       "columns": [
        {
         "name": "index",
         "rawType": "object",
         "type": "string"
        },
        {
         "name": "0",
         "rawType": "object",
         "type": "unknown"
        },
        {
         "name": "1",
         "rawType": "object",
         "type": "unknown"
        },
        {
         "name": "2",
         "rawType": "object",
         "type": "unknown"
        },
        {
         "name": "3",
         "rawType": "object",
         "type": "unknown"
        },
        {
         "name": "4",
         "rawType": "object",
         "type": "unknown"
        },
        {
         "name": "5",
         "rawType": "object",
         "type": "unknown"
        },
        {
         "name": "6",
         "rawType": "object",
         "type": "unknown"
        }
       ],
       "conversionMethod": "pd.DataFrame",
       "ref": "2379868c-78dc-42e1-9260-28a049e33045",
       "rows": [
        [
         "Name",
         "Alice",
         "Bob",
         "Charlie",
         "Dave",
         "Eve",
         "Frank",
         "Grace"
        ],
        [
         "Gender",
         "F",
         "M",
         "M",
         "M",
         "F",
         "M",
         "F"
        ],
        [
         "Age",
         "20",
         "40",
         "32",
         "31",
         "25",
         "20",
         "40"
        ]
       ],
       "shape": {
        "columns": 7,
        "rows": 3
       }
      },
      "text/html": [
       "<div>\n",
       "<style scoped>\n",
       "    .dataframe tbody tr th:only-of-type {\n",
       "        vertical-align: middle;\n",
       "    }\n",
       "\n",
       "    .dataframe tbody tr th {\n",
       "        vertical-align: top;\n",
       "    }\n",
       "\n",
       "    .dataframe thead th {\n",
       "        text-align: right;\n",
       "    }\n",
       "</style>\n",
       "<table border=\"1\" class=\"dataframe\">\n",
       "  <thead>\n",
       "    <tr style=\"text-align: right;\">\n",
       "      <th></th>\n",
       "      <th>0</th>\n",
       "      <th>1</th>\n",
       "      <th>2</th>\n",
       "      <th>3</th>\n",
       "      <th>4</th>\n",
       "      <th>5</th>\n",
       "      <th>6</th>\n",
       "    </tr>\n",
       "  </thead>\n",
       "  <tbody>\n",
       "    <tr>\n",
       "      <th>Name</th>\n",
       "      <td>Alice</td>\n",
       "      <td>Bob</td>\n",
       "      <td>Charlie</td>\n",
       "      <td>Dave</td>\n",
       "      <td>Eve</td>\n",
       "      <td>Frank</td>\n",
       "      <td>Grace</td>\n",
       "    </tr>\n",
       "    <tr>\n",
       "      <th>Gender</th>\n",
       "      <td>F</td>\n",
       "      <td>M</td>\n",
       "      <td>M</td>\n",
       "      <td>M</td>\n",
       "      <td>F</td>\n",
       "      <td>M</td>\n",
       "      <td>F</td>\n",
       "    </tr>\n",
       "    <tr>\n",
       "      <th>Age</th>\n",
       "      <td>20</td>\n",
       "      <td>40</td>\n",
       "      <td>32</td>\n",
       "      <td>31</td>\n",
       "      <td>25</td>\n",
       "      <td>20</td>\n",
       "      <td>40</td>\n",
       "    </tr>\n",
       "  </tbody>\n",
       "</table>\n",
       "</div>"
      ],
      "text/plain": [
       "            0    1        2     3    4      5      6\n",
       "Name    Alice  Bob  Charlie  Dave  Eve  Frank  Grace\n",
       "Gender      F    M        M     M    F      M      F\n",
       "Age        20   40       32    31   25     20     40"
      ]
     },
     "execution_count": 17,
     "metadata": {},
     "output_type": "execute_result"
    }
   ],
   "source": [
    "df = pd.DataFrame.from_dict(d, orient=\"index\")\n",
    "df"
   ]
  },
  {
   "cell_type": "code",
   "execution_count": 19,
   "metadata": {},
   "outputs": [
    {
     "data": {
      "application/vnd.microsoft.datawrangler.viewer.v0+json": {
       "columns": [
        {
         "name": "index",
         "rawType": "int64",
         "type": "integer"
        },
        {
         "name": "Name",
         "rawType": "object",
         "type": "string"
        },
        {
         "name": "Gender",
         "rawType": "object",
         "type": "string"
        },
        {
         "name": "Age",
         "rawType": "object",
         "type": "string"
        }
       ],
       "conversionMethod": "pd.DataFrame",
       "ref": "eb749a9c-1394-4e4d-8798-8ce0b4e11e04",
       "rows": [
        [
         "0",
         "Alice",
         "F",
         "20"
        ],
        [
         "1",
         "Bob",
         "M",
         "40"
        ],
        [
         "2",
         "Charlie",
         "M",
         "32"
        ],
        [
         "3",
         "Dave",
         "M",
         "31"
        ],
        [
         "4",
         "Eve",
         "F",
         "25"
        ],
        [
         "5",
         "Frank",
         "M",
         "20"
        ],
        [
         "6",
         "Grace",
         "F",
         "40"
        ]
       ],
       "shape": {
        "columns": 3,
        "rows": 7
       }
      },
      "text/html": [
       "<div>\n",
       "<style scoped>\n",
       "    .dataframe tbody tr th:only-of-type {\n",
       "        vertical-align: middle;\n",
       "    }\n",
       "\n",
       "    .dataframe tbody tr th {\n",
       "        vertical-align: top;\n",
       "    }\n",
       "\n",
       "    .dataframe thead th {\n",
       "        text-align: right;\n",
       "    }\n",
       "</style>\n",
       "<table border=\"1\" class=\"dataframe\">\n",
       "  <thead>\n",
       "    <tr style=\"text-align: right;\">\n",
       "      <th></th>\n",
       "      <th>Name</th>\n",
       "      <th>Gender</th>\n",
       "      <th>Age</th>\n",
       "    </tr>\n",
       "  </thead>\n",
       "  <tbody>\n",
       "    <tr>\n",
       "      <th>0</th>\n",
       "      <td>Alice</td>\n",
       "      <td>F</td>\n",
       "      <td>20</td>\n",
       "    </tr>\n",
       "    <tr>\n",
       "      <th>1</th>\n",
       "      <td>Bob</td>\n",
       "      <td>M</td>\n",
       "      <td>40</td>\n",
       "    </tr>\n",
       "    <tr>\n",
       "      <th>2</th>\n",
       "      <td>Charlie</td>\n",
       "      <td>M</td>\n",
       "      <td>32</td>\n",
       "    </tr>\n",
       "    <tr>\n",
       "      <th>3</th>\n",
       "      <td>Dave</td>\n",
       "      <td>M</td>\n",
       "      <td>31</td>\n",
       "    </tr>\n",
       "    <tr>\n",
       "      <th>4</th>\n",
       "      <td>Eve</td>\n",
       "      <td>F</td>\n",
       "      <td>25</td>\n",
       "    </tr>\n",
       "    <tr>\n",
       "      <th>5</th>\n",
       "      <td>Frank</td>\n",
       "      <td>M</td>\n",
       "      <td>20</td>\n",
       "    </tr>\n",
       "    <tr>\n",
       "      <th>6</th>\n",
       "      <td>Grace</td>\n",
       "      <td>F</td>\n",
       "      <td>40</td>\n",
       "    </tr>\n",
       "  </tbody>\n",
       "</table>\n",
       "</div>"
      ],
      "text/plain": [
       "      Name Gender Age\n",
       "0    Alice      F  20\n",
       "1      Bob      M  40\n",
       "2  Charlie      M  32\n",
       "3     Dave      M  31\n",
       "4      Eve      F  25\n",
       "5    Frank      M  20\n",
       "6    Grace      F  40"
      ]
     },
     "execution_count": 19,
     "metadata": {},
     "output_type": "execute_result"
    }
   ],
   "source": [
    "d = {\n",
    "    \"id_1\": [\"Alice\", \"F\", \"20\"],\n",
    "    \"id_2\": [\"Bob\", \"M\", \"40\"],\n",
    "    \"id_3\": [\"Charlie\", \"M\", \"32\"],\n",
    "    \"id_4\": [\"Dave\", \"M\", \"31\"],\n",
    "    \"id_5\": [\"Eve\", \"F\", \"25\"],\n",
    "    \"id_6\": [\"Frank\", \"M\", \"20\"],\n",
    "    \"id_7\": [\"Grace\", \"F\", \"40\"],\n",
    "}\n",
    "d\n",
    "pd.DataFrame(d.values(), columns=[\"Name\", \"Gender\", \"Age\"])"
   ]
  },
  {
   "cell_type": "code",
   "execution_count": null,
   "metadata": {},
   "outputs": [
    {
     "data": {
      "application/vnd.microsoft.datawrangler.viewer.v0+json": {
       "columns": [
        {
         "name": "index",
         "rawType": "int64",
         "type": "integer"
        },
        {
         "name": "Name",
         "rawType": "object",
         "type": "string"
        },
        {
         "name": "Age",
         "rawType": "int64",
         "type": "integer"
        },
        {
         "name": "City",
         "rawType": "object",
         "type": "string"
        }
       ],
       "conversionMethod": "pd.DataFrame",
       "ref": "db1df465-9aee-4f9e-8103-c5560d468627",
       "rows": [
        [
         "0",
         "Alice",
         "25",
         "NYC"
        ],
        [
         "1",
         "Bob",
         "30",
         "LA"
        ],
        [
         "2",
         "Charlie",
         "35",
         "SF"
        ]
       ],
       "shape": {
        "columns": 3,
        "rows": 3
       }
      },
      "text/html": [
       "<div>\n",
       "<style scoped>\n",
       "    .dataframe tbody tr th:only-of-type {\n",
       "        vertical-align: middle;\n",
       "    }\n",
       "\n",
       "    .dataframe tbody tr th {\n",
       "        vertical-align: top;\n",
       "    }\n",
       "\n",
       "    .dataframe thead th {\n",
       "        text-align: right;\n",
       "    }\n",
       "</style>\n",
       "<table border=\"1\" class=\"dataframe\">\n",
       "  <thead>\n",
       "    <tr style=\"text-align: right;\">\n",
       "      <th></th>\n",
       "      <th>Name</th>\n",
       "      <th>Age</th>\n",
       "      <th>City</th>\n",
       "    </tr>\n",
       "  </thead>\n",
       "  <tbody>\n",
       "    <tr>\n",
       "      <th>0</th>\n",
       "      <td>Alice</td>\n",
       "      <td>25</td>\n",
       "      <td>NYC</td>\n",
       "    </tr>\n",
       "    <tr>\n",
       "      <th>1</th>\n",
       "      <td>Bob</td>\n",
       "      <td>30</td>\n",
       "      <td>LA</td>\n",
       "    </tr>\n",
       "    <tr>\n",
       "      <th>2</th>\n",
       "      <td>Charlie</td>\n",
       "      <td>35</td>\n",
       "      <td>SF</td>\n",
       "    </tr>\n",
       "  </tbody>\n",
       "</table>\n",
       "</div>"
      ],
      "text/plain": [
       "      Name  Age City\n",
       "0    Alice   25  NYC\n",
       "1      Bob   30   LA\n",
       "2  Charlie   35   SF"
      ]
     },
     "execution_count": 27,
     "metadata": {},
     "output_type": "execute_result"
    }
   ],
   "source": [
    "import pandas as pd\n",
    "d = {'Name': ['Alice', 'Bob', 'Charlie'], 'Age': [25, 30, 35], 'City': ['NYC', 'LA', 'SF']}\n",
    "df = pd.DataFrame.from_dict(d)\n",
    "df\n"
   ]
  },
  {
   "cell_type": "code",
   "execution_count": 28,
   "metadata": {},
   "outputs": [
    {
     "data": {
      "text/plain": [
       "0    25\n",
       "1    30\n",
       "2    35\n",
       "Name: Age, dtype: int64"
      ]
     },
     "execution_count": 28,
     "metadata": {},
     "output_type": "execute_result"
    }
   ],
   "source": [
    "df[\"Age\"]"
   ]
  },
  {
   "cell_type": "code",
   "execution_count": 31,
   "metadata": {},
   "outputs": [
    {
     "data": {
      "application/vnd.microsoft.datawrangler.viewer.v0+json": {
       "columns": [
        {
         "name": "index",
         "rawType": "int64",
         "type": "integer"
        },
        {
         "name": "Name",
         "rawType": "object",
         "type": "string"
        },
        {
         "name": "Age",
         "rawType": "int64",
         "type": "integer"
        },
        {
         "name": "City",
         "rawType": "object",
         "type": "string"
        },
        {
         "name": "Salary",
         "rawType": "int64",
         "type": "integer"
        }
       ],
       "conversionMethod": "pd.DataFrame",
       "ref": "72b78a4b-98d7-4f43-9f4c-cdcd4230a305",
       "rows": [
        [
         "0",
         "Alice",
         "25",
         "NYC",
         "7000"
        ],
        [
         "1",
         "Bob",
         "30",
         "LA",
         "8000"
        ],
        [
         "2",
         "Charlie",
         "35",
         "SF",
         "9000"
        ]
       ],
       "shape": {
        "columns": 4,
        "rows": 3
       }
      },
      "text/html": [
       "<div>\n",
       "<style scoped>\n",
       "    .dataframe tbody tr th:only-of-type {\n",
       "        vertical-align: middle;\n",
       "    }\n",
       "\n",
       "    .dataframe tbody tr th {\n",
       "        vertical-align: top;\n",
       "    }\n",
       "\n",
       "    .dataframe thead th {\n",
       "        text-align: right;\n",
       "    }\n",
       "</style>\n",
       "<table border=\"1\" class=\"dataframe\">\n",
       "  <thead>\n",
       "    <tr style=\"text-align: right;\">\n",
       "      <th></th>\n",
       "      <th>Name</th>\n",
       "      <th>Age</th>\n",
       "      <th>City</th>\n",
       "      <th>Salary</th>\n",
       "    </tr>\n",
       "  </thead>\n",
       "  <tbody>\n",
       "    <tr>\n",
       "      <th>0</th>\n",
       "      <td>Alice</td>\n",
       "      <td>25</td>\n",
       "      <td>NYC</td>\n",
       "      <td>7000</td>\n",
       "    </tr>\n",
       "    <tr>\n",
       "      <th>1</th>\n",
       "      <td>Bob</td>\n",
       "      <td>30</td>\n",
       "      <td>LA</td>\n",
       "      <td>8000</td>\n",
       "    </tr>\n",
       "    <tr>\n",
       "      <th>2</th>\n",
       "      <td>Charlie</td>\n",
       "      <td>35</td>\n",
       "      <td>SF</td>\n",
       "      <td>9000</td>\n",
       "    </tr>\n",
       "  </tbody>\n",
       "</table>\n",
       "</div>"
      ],
      "text/plain": [
       "      Name  Age City  Salary\n",
       "0    Alice   25  NYC    7000\n",
       "1      Bob   30   LA    8000\n",
       "2  Charlie   35   SF    9000"
      ]
     },
     "execution_count": 31,
     "metadata": {},
     "output_type": "execute_result"
    }
   ],
   "source": [
    "df.assign(Salary = [7000, 8000, 9000])"
   ]
  },
  {
   "cell_type": "code",
   "execution_count": null,
   "metadata": {},
   "outputs": [
    {
     "data": {
      "text/plain": [
       "np.float64(30.0)"
      ]
     },
     "execution_count": 39,
     "metadata": {},
     "output_type": "execute_result"
    }
   ],
   "source": [
    "average_age = df['Age'].mean()\n",
    "average_age"
   ]
  },
  {
   "cell_type": "code",
   "execution_count": 45,
   "metadata": {},
   "outputs": [
    {
     "data": {
      "application/vnd.microsoft.datawrangler.viewer.v0+json": {
       "columns": [
        {
         "name": "index",
         "rawType": "int64",
         "type": "integer"
        },
        {
         "name": "Name",
         "rawType": "object",
         "type": "string"
        },
        {
         "name": "Age",
         "rawType": "int64",
         "type": "integer"
        },
        {
         "name": "City",
         "rawType": "object",
         "type": "string"
        }
       ],
       "conversionMethod": "pd.DataFrame",
       "ref": "ec4cb274-17c6-465e-a983-27909214b0e0",
       "rows": [
        [
         "1",
         "Bob",
         "30",
         "LA"
        ],
        [
         "2",
         "Charlie",
         "35",
         "SF"
        ]
       ],
       "shape": {
        "columns": 3,
        "rows": 2
       }
      },
      "text/html": [
       "<div>\n",
       "<style scoped>\n",
       "    .dataframe tbody tr th:only-of-type {\n",
       "        vertical-align: middle;\n",
       "    }\n",
       "\n",
       "    .dataframe tbody tr th {\n",
       "        vertical-align: top;\n",
       "    }\n",
       "\n",
       "    .dataframe thead th {\n",
       "        text-align: right;\n",
       "    }\n",
       "</style>\n",
       "<table border=\"1\" class=\"dataframe\">\n",
       "  <thead>\n",
       "    <tr style=\"text-align: right;\">\n",
       "      <th></th>\n",
       "      <th>Name</th>\n",
       "      <th>Age</th>\n",
       "      <th>City</th>\n",
       "    </tr>\n",
       "  </thead>\n",
       "  <tbody>\n",
       "    <tr>\n",
       "      <th>1</th>\n",
       "      <td>Bob</td>\n",
       "      <td>30</td>\n",
       "      <td>LA</td>\n",
       "    </tr>\n",
       "    <tr>\n",
       "      <th>2</th>\n",
       "      <td>Charlie</td>\n",
       "      <td>35</td>\n",
       "      <td>SF</td>\n",
       "    </tr>\n",
       "  </tbody>\n",
       "</table>\n",
       "</div>"
      ],
      "text/plain": [
       "      Name  Age City\n",
       "1      Bob   30   LA\n",
       "2  Charlie   35   SF"
      ]
     },
     "execution_count": 45,
     "metadata": {},
     "output_type": "execute_result"
    }
   ],
   "source": [
    "filtered_df = df[df['Age'] >= 30]\n",
    "filtered_df"
   ]
  },
  {
   "cell_type": "code",
   "execution_count": 49,
   "metadata": {},
   "outputs": [
    {
     "data": {
      "application/vnd.microsoft.datawrangler.viewer.v0+json": {
       "columns": [
        {
         "name": "index",
         "rawType": "int64",
         "type": "integer"
        },
        {
         "name": "Name",
         "rawType": "object",
         "type": "string"
        },
        {
         "name": "Age",
         "rawType": "int64",
         "type": "integer"
        },
        {
         "name": "City",
         "rawType": "object",
         "type": "string"
        }
       ],
       "conversionMethod": "pd.DataFrame",
       "ref": "7a6f3691-10d8-43c3-9da1-af9beab46d02",
       "rows": [
        [
         "2",
         "Charlie",
         "35",
         "SF"
        ],
        [
         "1",
         "Bob",
         "30",
         "LA"
        ],
        [
         "0",
         "Alice",
         "25",
         "NYC"
        ]
       ],
       "shape": {
        "columns": 3,
        "rows": 3
       }
      },
      "text/html": [
       "<div>\n",
       "<style scoped>\n",
       "    .dataframe tbody tr th:only-of-type {\n",
       "        vertical-align: middle;\n",
       "    }\n",
       "\n",
       "    .dataframe tbody tr th {\n",
       "        vertical-align: top;\n",
       "    }\n",
       "\n",
       "    .dataframe thead th {\n",
       "        text-align: right;\n",
       "    }\n",
       "</style>\n",
       "<table border=\"1\" class=\"dataframe\">\n",
       "  <thead>\n",
       "    <tr style=\"text-align: right;\">\n",
       "      <th></th>\n",
       "      <th>Name</th>\n",
       "      <th>Age</th>\n",
       "      <th>City</th>\n",
       "    </tr>\n",
       "  </thead>\n",
       "  <tbody>\n",
       "    <tr>\n",
       "      <th>2</th>\n",
       "      <td>Charlie</td>\n",
       "      <td>35</td>\n",
       "      <td>SF</td>\n",
       "    </tr>\n",
       "    <tr>\n",
       "      <th>1</th>\n",
       "      <td>Bob</td>\n",
       "      <td>30</td>\n",
       "      <td>LA</td>\n",
       "    </tr>\n",
       "    <tr>\n",
       "      <th>0</th>\n",
       "      <td>Alice</td>\n",
       "      <td>25</td>\n",
       "      <td>NYC</td>\n",
       "    </tr>\n",
       "  </tbody>\n",
       "</table>\n",
       "</div>"
      ],
      "text/plain": [
       "      Name  Age City\n",
       "2  Charlie   35   SF\n",
       "1      Bob   30   LA\n",
       "0    Alice   25  NYC"
      ]
     },
     "execution_count": 49,
     "metadata": {},
     "output_type": "execute_result"
    }
   ],
   "source": [
    "sorted_ascending = df.sort_values(by = 'Age')\n",
    "sorted_descending = df. sort_values(by = 'Age', ascending = False)\n",
    "sorted_descending"
   ]
  },
  {
   "cell_type": "code",
   "execution_count": 60,
   "metadata": {},
   "outputs": [
    {
     "data": {
      "text/plain": [
       "City\n",
       "LA     30.0\n",
       "NYC    25.0\n",
       "SF     35.0\n",
       "Name: Age, dtype: float64"
      ]
     },
     "execution_count": 60,
     "metadata": {},
     "output_type": "execute_result"
    }
   ],
   "source": [
    "grouped = df.groupby('City')\n",
    "mean = grouped['Age'].mean()\n",
    "mean"
   ]
  },
  {
   "cell_type": "code",
   "execution_count": 70,
   "metadata": {},
   "outputs": [
    {
     "data": {
      "application/vnd.microsoft.datawrangler.viewer.v0+json": {
       "columns": [
        {
         "name": "index",
         "rawType": "int64",
         "type": "integer"
        },
        {
         "name": "Name",
         "rawType": "object",
         "type": "string"
        },
        {
         "name": "Age",
         "rawType": "int64",
         "type": "integer"
        },
        {
         "name": "City",
         "rawType": "object",
         "type": "string"
        },
        {
         "name": "Job",
         "rawType": "object",
         "type": "string"
        }
       ],
       "conversionMethod": "pd.DataFrame",
       "ref": "f58ca624-c53f-4f53-8c83-05163efc2f2c",
       "rows": [
        [
         "0",
         "Alice",
         "25",
         "NYC",
         "Engineer"
        ],
        [
         "1",
         "Bob",
         "30",
         "LA",
         "Doctor"
        ],
        [
         "2",
         "Charlie",
         "35",
         "SF",
         "Artist"
        ]
       ],
       "shape": {
        "columns": 4,
        "rows": 3
       }
      },
      "text/html": [
       "<div>\n",
       "<style scoped>\n",
       "    .dataframe tbody tr th:only-of-type {\n",
       "        vertical-align: middle;\n",
       "    }\n",
       "\n",
       "    .dataframe tbody tr th {\n",
       "        vertical-align: top;\n",
       "    }\n",
       "\n",
       "    .dataframe thead th {\n",
       "        text-align: right;\n",
       "    }\n",
       "</style>\n",
       "<table border=\"1\" class=\"dataframe\">\n",
       "  <thead>\n",
       "    <tr style=\"text-align: right;\">\n",
       "      <th></th>\n",
       "      <th>Name</th>\n",
       "      <th>Age</th>\n",
       "      <th>City</th>\n",
       "      <th>Job</th>\n",
       "    </tr>\n",
       "  </thead>\n",
       "  <tbody>\n",
       "    <tr>\n",
       "      <th>0</th>\n",
       "      <td>Alice</td>\n",
       "      <td>25</td>\n",
       "      <td>NYC</td>\n",
       "      <td>Engineer</td>\n",
       "    </tr>\n",
       "    <tr>\n",
       "      <th>1</th>\n",
       "      <td>Bob</td>\n",
       "      <td>30</td>\n",
       "      <td>LA</td>\n",
       "      <td>Doctor</td>\n",
       "    </tr>\n",
       "    <tr>\n",
       "      <th>2</th>\n",
       "      <td>Charlie</td>\n",
       "      <td>35</td>\n",
       "      <td>SF</td>\n",
       "      <td>Artist</td>\n",
       "    </tr>\n",
       "  </tbody>\n",
       "</table>\n",
       "</div>"
      ],
      "text/plain": [
       "      Name  Age City       Job\n",
       "0    Alice   25  NYC  Engineer\n",
       "1      Bob   30   LA    Doctor\n",
       "2  Charlie   35   SF    Artist"
      ]
     },
     "execution_count": 70,
     "metadata": {},
     "output_type": "execute_result"
    }
   ],
   "source": [
    "job_data = {'Name': ['Alice', 'Bob', 'Charlie'], 'Job': ['Engineer', 'Doctor', 'Artist']}\n",
    "job_data_df = pd.DataFrame(job_data)\n",
    "merged = pd.merge(df, job_data_df, on = 'Name')\n",
    "merged"
   ]
  },
  {
   "cell_type": "code",
   "execution_count": 79,
   "metadata": {},
   "outputs": [
    {
     "data": {
      "application/vnd.microsoft.datawrangler.viewer.v0+json": {
       "columns": [
        {
         "name": "Job",
         "rawType": "object",
         "type": "string"
        },
        {
         "name": "Age",
         "rawType": "float64",
         "type": "float"
        }
       ],
       "conversionMethod": "pd.DataFrame",
       "ref": "d1bce120-7c74-42c5-9d54-d22aca63304d",
       "rows": [
        [
         "Artist",
         "35.0"
        ],
        [
         "Doctor",
         "30.0"
        ],
        [
         "Engineer",
         "25.0"
        ]
       ],
       "shape": {
        "columns": 1,
        "rows": 3
       }
      },
      "text/html": [
       "<div>\n",
       "<style scoped>\n",
       "    .dataframe tbody tr th:only-of-type {\n",
       "        vertical-align: middle;\n",
       "    }\n",
       "\n",
       "    .dataframe tbody tr th {\n",
       "        vertical-align: top;\n",
       "    }\n",
       "\n",
       "    .dataframe thead th {\n",
       "        text-align: right;\n",
       "    }\n",
       "</style>\n",
       "<table border=\"1\" class=\"dataframe\">\n",
       "  <thead>\n",
       "    <tr style=\"text-align: right;\">\n",
       "      <th></th>\n",
       "      <th>Age</th>\n",
       "    </tr>\n",
       "    <tr>\n",
       "      <th>Job</th>\n",
       "      <th></th>\n",
       "    </tr>\n",
       "  </thead>\n",
       "  <tbody>\n",
       "    <tr>\n",
       "      <th>Artist</th>\n",
       "      <td>35.0</td>\n",
       "    </tr>\n",
       "    <tr>\n",
       "      <th>Doctor</th>\n",
       "      <td>30.0</td>\n",
       "    </tr>\n",
       "    <tr>\n",
       "      <th>Engineer</th>\n",
       "      <td>25.0</td>\n",
       "    </tr>\n",
       "  </tbody>\n",
       "</table>\n",
       "</div>"
      ],
      "text/plain": [
       "           Age\n",
       "Job           \n",
       "Artist    35.0\n",
       "Doctor    30.0\n",
       "Engineer  25.0"
      ]
     },
     "execution_count": 79,
     "metadata": {},
     "output_type": "execute_result"
    }
   ],
   "source": [
    "piv = pd.pivot_table(merged, values = 'Age', index = 'Job', aggfunc='mean')\n",
    "piv"
   ]
  },
  {
   "cell_type": "code",
   "execution_count": 85,
   "metadata": {},
   "outputs": [
    {
     "name": "stdout",
     "output_type": "stream",
     "text": [
      "      Name  Age City\n",
      "1      Bob   30   LA\n",
      "2  Charlie   35   SF\n"
     ]
    }
   ],
   "source": [
    "new = df[df['Age'] > 25]\n",
    "print(new[new['City'] != 'NYC'])"
   ]
  },
  {
   "cell_type": "code",
   "execution_count": 94,
   "metadata": {},
   "outputs": [
    {
     "name": "stdout",
     "output_type": "stream",
     "text": [
      "      Name  Age City Seniority\n",
      "0    Alice   25  NYC     Adult\n",
      "1      Bob   30   LA     Adult\n",
      "2  Charlie   35   SF    Senior\n"
     ]
    }
   ],
   "source": [
    "def old_or_not(dataframe):\n",
    "    dataframe['Seniority'] = \"\"  # Create a new column for Seniority\n",
    "    for index, row in dataframe.iterrows():  # Loop through each row in the DataFrame\n",
    "        if row['Age'] > 30:  # Check if the 'Age' is greater than 30\n",
    "            dataframe.at[index, 'Seniority'] = \"Senior\"  # Assign \"Senior\" if age > 30\n",
    "        else:\n",
    "            dataframe.at[index, 'Seniority'] = \"Adult\"  # Assign \"Adult\" if age <= 30\n",
    "    return dataframe  # Return the updated dataframe\n",
    "\n",
    "# Sample DataFrame\n",
    "import pandas as pd\n",
    "df = pd.DataFrame({\n",
    "    'Name': ['Alice', 'Bob', 'Charlie'],\n",
    "    'Age': [25, 30, 35],\n",
    "    'City': ['NYC', 'LA', 'SF']\n",
    "})\n",
    "\n",
    "print(old_or_not(df))  # Call the function and print the result\n",
    "\n",
    "    "
   ]
  },
  {
   "cell_type": "code",
   "execution_count": 107,
   "metadata": {},
   "outputs": [
    {
     "name": "stdout",
     "output_type": "stream",
     "text": [
      "21000\n"
     ]
    }
   ],
   "source": [
    "import pandas as pd\n",
    "import pandas as pd\n",
    "\n",
    "data = {'Name': ['Alice', 'Bob', 'Charlie', 'David', 'Eve'],\n",
    "        'Age': [24, 30, 35, 40, 22],\n",
    "        'Salary': [5000, 6000, 7000, 8000, 4000]}\n",
    "\n",
    "df = pd.DataFrame(data)\n",
    "\n",
    "def get_salary_sum(df):\n",
    "    filtered = df[df['Age'] > 25]\n",
    "    return filtered['Salary'].sum()\n",
    "\n",
    "print(get_salary_sum(df))\n"
   ]
  },
  {
   "cell_type": "code",
   "execution_count": 5,
   "metadata": {},
   "outputs": [
    {
     "name": "stdout",
     "output_type": "stream",
     "text": [
      "    Department     Name  Experience\n",
      "0  Engineering    David           7\n",
      "1           HR  Charlie           3\n",
      "2    Marketing      Eve           1\n"
     ]
    }
   ],
   "source": [
    "#import pandas as pd\n",
    "\n",
    "data = {'Name': ['Alice', 'Bob', 'Charlie', 'David', 'Eve'],\n",
    "        'Department': ['HR', 'Engineering', 'HR', 'Engineering', 'Marketing'],\n",
    "        'Salary': [5000, 6000, 7000, 8000, 4000],\n",
    "        'Experience': [2, 5, 3, 7, 1]}\n",
    "\n",
    "df = pd.DataFrame(data)\n",
    "\n",
    "def highest_experience_employee(df):\n",
    "    result = df.loc[df.groupby('Department')['Experience'].idxmax(), ['Department', 'Name', 'Experience']]\n",
    "    return result.reset_index(drop=True)\n",
    "\n",
    "print(highest_experience_employee(df))\n"
   ]
  },
  {
   "cell_type": "code",
   "execution_count": 7,
   "metadata": {},
   "outputs": [
    {
     "name": "stdout",
     "output_type": "stream",
     "text": [
      "      Name   Department  Salary  Experience\n",
      "0    Alice           HR    5000           2\n",
      "1      Bob  Engineering    6300           5\n",
      "2  Charlie           HR    7000           3\n",
      "3    David  Engineering    8800           7\n",
      "4      Eve    Marketing    4000           1\n"
     ]
    }
   ],
   "source": [
    "import pandas as pd\n",
    "\n",
    "data = {'Name': ['Alice', 'Bob', 'Charlie', 'David', 'Eve'],\n",
    "        'Department': ['HR', 'Engineering', 'HR', 'Engineering', 'Marketing'],\n",
    "        'Salary': [5000, 6000, 7000, 8000, 4000],\n",
    "        'Experience': [2, 5, 3, 7, 1]}\n",
    "\n",
    "df = pd.DataFrame(data)\n",
    "\n",
    "def adjust_salary(df):\n",
    "    for index, row in df.iterrows():\n",
    "        if df.at[index, 'Experience'] > 5:\n",
    "            df.at[index, 'Salary'] *= 1.1\n",
    "        elif 3 < df.at[index, 'Experience'] <= 5: \n",
    "            df.at[index, 'Salary'] *= 1.05\n",
    "    return df\n",
    "\n",
    "\n",
    "print(adjust_salary(df))\n"
   ]
  },
  {
   "cell_type": "code",
   "execution_count": 11,
   "metadata": {},
   "outputs": [
    {
     "name": "stdout",
     "output_type": "stream",
     "text": [
      "      Name   Department  Salary  Experience\n",
      "0    Alice           HR  5000.0           2\n",
      "1      Bob  Engineering  6300.0           5\n",
      "2  Charlie           HR  7000.0           3\n",
      "3    David  Engineering  8800.0           7\n",
      "4      Eve    Marketing  4000.0           1\n"
     ]
    }
   ],
   "source": [
    "import pandas as pd\n",
    "\n",
    "data = {'Name': ['Alice', 'Bob', 'Charlie', 'David', 'Eve'],\n",
    "        'Department': ['HR', 'Engineering', 'HR', 'Engineering', 'Marketing'],\n",
    "        'Salary': [5000, 6000, 7000, 8000, 4000],\n",
    "        'Experience': [2, 5, 3, 7, 1]}\n",
    "\n",
    "df = pd.DataFrame(data)\n",
    "\n",
    "def adjust_salary(df): \n",
    "    df['Salary'] = df.apply(lambda row: row['Salary'] * 1.1 if row['Experience'] > 5\n",
    "                            else row['Salary'] * 1.05 if 3 < row['Experience'] <= 5\n",
    "                            else row['Salary'], axis=1)\n",
    "    return df\n",
    "print(adjust_salary(df))"
   ]
  },
  {
   "cell_type": "code",
   "execution_count": 16,
   "metadata": {},
   "outputs": [
    {
     "name": "stdout",
     "output_type": "stream",
     "text": [
      "      Name  Performance  Salary\n",
      "0    Alice           95  5750.0\n",
      "1      Bob           85  6600.0\n",
      "2  Charlie           78  7000.0\n",
      "3    David           92  9200.0\n",
      "4      Eve           88  4400.0\n"
     ]
    }
   ],
   "source": [
    "#import pandas as pd\n",
    "\n",
    "data = {\n",
    "    'Name': ['Alice', 'Bob', 'Charlie', 'David', 'Eve'],\n",
    "    'Performance': [95, 85, 78, 92, 88],\n",
    "    'Salary': [5000, 6000, 7000, 8000, 4000]\n",
    "}\n",
    "\n",
    "df = pd.DataFrame(data)\n",
    "\n",
    "def update_salaries(df):\n",
    "    df['Salary'] = df.apply(lambda row: \n",
    "                            row['Salary'] * 1.15 if row['Performance'] > 90\n",
    "                            else row['Salary'] * 1.1 if 80 <= row['Performance'] <= 90\n",
    "                            else row['Salary'], axis=1)\n",
    "    return df\n",
    "\n",
    "print(update_salaries(df))\n"
   ]
  },
  {
   "cell_type": "code",
   "execution_count": 21,
   "metadata": {},
   "outputs": [
    {
     "name": "stdout",
     "output_type": "stream",
     "text": [
      "      Name  Performance Performance_category\n",
      "0    Alice           95                 High\n",
      "1      Bob           85              Average\n",
      "2  Charlie           78                 Suck\n",
      "3    David           92                 High\n",
      "4      Eve           88              Average\n"
     ]
    }
   ],
   "source": [
    "import pandas as pd\n",
    "\n",
    "data = {\n",
    "    'Name': ['Alice', 'Bob', 'Charlie', 'David', 'Eve'],\n",
    "    'Performance': [95, 85, 78, 92, 88]\n",
    "}\n",
    "\n",
    "df = pd.DataFrame(data)\n",
    "\n",
    "def categorize_performance(df): \n",
    "    df['Performance_category'] = df.apply(lambda row: 'High' if row['Performance'] >= 90\n",
    "                                          else 'Average' if 80 <= row['Performance'] <= 89\n",
    "                                          else 'Suck', axis = 1)\n",
    "    return df\n",
    "\n",
    "print(categorize_performance(df))\n",
    "    "
   ]
  },
  {
   "cell_type": "code",
   "execution_count": null,
   "metadata": {},
   "outputs": [
    {
     "name": "stdout",
     "output_type": "stream",
     "text": [
      "      Name   Department  Age  Salary\n",
      "0    Alice           HR   28  5250.0\n",
      "1      Bob  Engineering   45  6120.0\n",
      "2  Charlie           HR   55  7070.0\n",
      "3    David  Engineering   33  8160.0\n",
      "4      Eve    Marketing   26  4200.0\n"
     ]
    }
   ],
   "source": [
    "import pandas as pd\n",
    "\n",
    "data = {\n",
    "    'Name': ['Alice', 'Bob', 'Charlie', 'David', 'Eve'],\n",
    "    'Department': ['HR', 'Engineering', 'HR', 'Engineering', 'Marketing'],\n",
    "    'Age': [28, 45, 55, 33, 26],\n",
    "    'Salary': [5000, 6000, 7000, 8000, 4000]\n",
    "}\n",
    "\n",
    "df = pd.DataFrame(data)\n",
    "\n",
    "def adjust_sal_by_age(df):\n",
    "    df['Salary'] = df.apply(lambda row: row['Salary'] * 1.05 if row['Age'] <= 30\n",
    "                            else row['Salary'] * 1.02 if 31 <= row['Age'] <= 50\n",
    "                            else row['Salary'] * 1.01, axis = 1)\n",
    "    return df\n",
    "\n",
    "print(adjust_sal_by_age(df))\n"
   ]
  },
  {
   "cell_type": "code",
   "execution_count": null,
   "metadata": {},
   "outputs": [
    {
     "name": "stdout",
     "output_type": "stream",
     "text": [
      "  Product  Sales\n",
      "0       A   1350\n",
      "1       B   1150\n",
      "2       C   1150\n",
      "  Product  level_1  Sales\n",
      "1       A        1  400.0\n",
      "2       A        7  425.0\n",
      "4       B        3  325.0\n",
      "5       B        8  375.0\n",
      "7       C        5  475.0\n",
      "8       C        6  275.0\n"
     ]
    },
    {
     "data": {
      "application/vnd.microsoft.datawrangler.viewer.v0+json": {
       "columns": [
        {
         "name": "index",
         "rawType": "int64",
         "type": "integer"
        },
        {
         "name": "Product",
         "rawType": "object",
         "type": "string"
        },
        {
         "name": "Sales",
         "rawType": "int64",
         "type": "integer"
        },
        {
         "name": "Date",
         "rawType": "datetime64[ns]",
         "type": "datetime"
        }
       ],
       "conversionMethod": "pd.DataFrame",
       "ref": "db4dbd46-02ab-44b3-bde8-ef69ffa627e8",
       "rows": [
        [
         "4",
         "C",
         "600",
         "2025-01-02 00:00:00"
        ],
        [
         "5",
         "C",
         "350",
         "2025-01-03 00:00:00"
        ],
        [
         "6",
         "C",
         "200",
         "2025-01-04 00:00:00"
        ]
       ],
       "shape": {
        "columns": 3,
        "rows": 3
       }
      },
      "text/html": [
       "<div>\n",
       "<style scoped>\n",
       "    .dataframe tbody tr th:only-of-type {\n",
       "        vertical-align: middle;\n",
       "    }\n",
       "\n",
       "    .dataframe tbody tr th {\n",
       "        vertical-align: top;\n",
       "    }\n",
       "\n",
       "    .dataframe thead th {\n",
       "        text-align: right;\n",
       "    }\n",
       "</style>\n",
       "<table border=\"1\" class=\"dataframe\">\n",
       "  <thead>\n",
       "    <tr style=\"text-align: right;\">\n",
       "      <th></th>\n",
       "      <th>Product</th>\n",
       "      <th>Sales</th>\n",
       "      <th>Date</th>\n",
       "    </tr>\n",
       "  </thead>\n",
       "  <tbody>\n",
       "    <tr>\n",
       "      <th>4</th>\n",
       "      <td>C</td>\n",
       "      <td>600</td>\n",
       "      <td>2025-01-02</td>\n",
       "    </tr>\n",
       "    <tr>\n",
       "      <th>5</th>\n",
       "      <td>C</td>\n",
       "      <td>350</td>\n",
       "      <td>2025-01-03</td>\n",
       "    </tr>\n",
       "    <tr>\n",
       "      <th>6</th>\n",
       "      <td>C</td>\n",
       "      <td>200</td>\n",
       "      <td>2025-01-04</td>\n",
       "    </tr>\n",
       "  </tbody>\n",
       "</table>\n",
       "</div>"
      ],
      "text/plain": [
       "  Product  Sales       Date\n",
       "4       C    600 2025-01-02\n",
       "5       C    350 2025-01-03\n",
       "6       C    200 2025-01-04"
      ]
     },
     "execution_count": 15,
     "metadata": {},
     "output_type": "execute_result"
    }
   ],
   "source": [
    "import pandas as pd\n",
    "\n",
    "data = {\n",
    "    'Product': ['A', 'A', 'B', 'B', 'C', 'C', 'C', 'A', 'B'],\n",
    "    'Sales': [500, 300, 400, 250, 600, 350, 200, 550, 500],\n",
    "    'Date': ['2025-01-01', '2025-01-02', '2025-01-01', '2025-01-03', '2025-01-02', \n",
    "             '2025-01-03', '2025-01-04', '2025-01-04', '2025-01-05']\n",
    "}\n",
    "\n",
    "df = pd.DataFrame(data)\n",
    "df['Date'] = pd.to_datetime(df['Date'])\n",
    "\n",
    "def get_sales_each_day_highest_product(df):\n",
    "    sales_total = df.groupby('Product')['Sales'].sum().reset_index()\n",
    "    df.join(sales_total, )\n",
    "    return df\n",
    "\n",
    "#print(get_sales_each_day_highest_product(df))\n",
    "sales_total = df.groupby('Product')['Sales'].sum().reset_index()\n",
    "print(sales_total)\n",
    "print(df.groupby('Product')['Sales'].rolling(window=2).mean().reset_index().dropna())\n",
    "df_merged = df.merge(sales_total, on = 'Product')\n",
    "highest_seller = sales_total.max().reset_index()\n",
    "top_product = highest_seller.at[0, 0]\n",
    "result = df[df['Product'] == top_product]\n",
    "result\n",
    "\n",
    "\n",
    "\n",
    "\n",
    "#df"
   ]
  },
  {
   "cell_type": "code",
   "execution_count": 3,
   "metadata": {},
   "outputs": [
    {
     "name": "stdout",
     "output_type": "stream",
     "text": [
      "  Store  Sales Month\n",
      "0     C    400   Feb\n",
      "1     C    600   Apr\n",
      "2     C   1000   May\n"
     ]
    }
   ],
   "source": [
    "import pandas as pd\n",
    "\n",
    "data = {\n",
    "    'Store': ['A', 'B', 'A', 'C', 'B', 'A', 'C', 'B', 'C', 'A'],\n",
    "    'Sales': [500, 700, 300, 400, 200, 800, 600, 900, 1000, 300],\n",
    "    'Month': ['Jan', 'Jan', 'Feb', 'Feb', 'Mar', 'Mar', 'Apr', 'Apr', 'May', 'May']\n",
    "}\n",
    "\n",
    "df = pd.DataFrame(data)\n",
    "\n",
    "\n",
    "def get_highest_store(df):\n",
    "    sum_stores = df.groupby(['Store'])['Sales'].sum().reset_index()\n",
    "    top_store = sum_stores.loc[sum_stores['Sales'].idxmax(), 'Store']\n",
    "    result = df[df['Store'] == top_store]\n",
    "    return result.reset_index(drop=True)\n",
    "\n",
    "print(get_highest_store(df))\n",
    "\n"
   ]
  },
  {
   "cell_type": "code",
   "execution_count": null,
   "metadata": {},
   "outputs": [
    {
     "data": {
      "application/vnd.microsoft.datawrangler.viewer.v0+json": {
       "columns": [
        {
         "name": "index",
         "rawType": "int64",
         "type": "integer"
        },
        {
         "name": "Region",
         "rawType": "object",
         "type": "string"
        },
        {
         "name": "Month",
         "rawType": "object",
         "type": "string"
        },
        {
         "name": "Sales",
         "rawType": "int64",
         "type": "integer"
        }
       ],
       "conversionMethod": "pd.DataFrame",
       "ref": "cea32cf6-56e8-4852-ae0e-27357fc4a321",
       "rows": [
        [
         "1",
         "South",
         "Jan",
         "600"
        ],
        [
         "5",
         "South",
         "Feb",
         "900"
        ],
        [
         "9",
         "South",
         "Mar",
         "200"
        ]
       ],
       "shape": {
        "columns": 3,
        "rows": 3
       }
      },
      "text/html": [
       "<div>\n",
       "<style scoped>\n",
       "    .dataframe tbody tr th:only-of-type {\n",
       "        vertical-align: middle;\n",
       "    }\n",
       "\n",
       "    .dataframe tbody tr th {\n",
       "        vertical-align: top;\n",
       "    }\n",
       "\n",
       "    .dataframe thead th {\n",
       "        text-align: right;\n",
       "    }\n",
       "</style>\n",
       "<table border=\"1\" class=\"dataframe\">\n",
       "  <thead>\n",
       "    <tr style=\"text-align: right;\">\n",
       "      <th></th>\n",
       "      <th>Region</th>\n",
       "      <th>Month</th>\n",
       "      <th>Sales</th>\n",
       "    </tr>\n",
       "  </thead>\n",
       "  <tbody>\n",
       "    <tr>\n",
       "      <th>1</th>\n",
       "      <td>South</td>\n",
       "      <td>Jan</td>\n",
       "      <td>600</td>\n",
       "    </tr>\n",
       "    <tr>\n",
       "      <th>5</th>\n",
       "      <td>South</td>\n",
       "      <td>Feb</td>\n",
       "      <td>900</td>\n",
       "    </tr>\n",
       "    <tr>\n",
       "      <th>9</th>\n",
       "      <td>South</td>\n",
       "      <td>Mar</td>\n",
       "      <td>200</td>\n",
       "    </tr>\n",
       "  </tbody>\n",
       "</table>\n",
       "</div>"
      ],
      "text/plain": [
       "  Region Month  Sales\n",
       "1  South   Jan    600\n",
       "5  South   Feb    900\n",
       "9  South   Mar    200"
      ]
     },
     "execution_count": 27,
     "metadata": {},
     "output_type": "execute_result"
    }
   ],
   "source": [
    "import pandas as pd\n",
    "\n",
    "data = {\n",
    "    'Region': ['North', 'South', 'East', 'West', 'North', 'South', 'East', 'West', 'North', 'South'],\n",
    "    'Month': ['Jan', 'Jan', 'Jan', 'Jan', 'Feb', 'Feb', 'Feb', 'Feb', 'Mar', 'Mar'],\n",
    "    'Sales': [500, 600, 700, 400, 800, 900, 500, 600, 300, 200]\n",
    "}\n",
    "\n",
    "df = pd.DataFrame(data)\n",
    "\n",
    "\n",
    "sum_sales = df.groupby('Region')['Sales'].sum().reset_index()\n",
    "highest = sum_sales.loc[sum_sales['Sales'].idxmax(), 'Region']\n",
    "result = df[df['Region'] == highest]\n",
    "result\n",
    "\n"
   ]
  },
  {
   "cell_type": "code",
   "execution_count": 61,
   "metadata": {},
   "outputs": [
    {
     "data": {
      "application/vnd.microsoft.datawrangler.viewer.v0+json": {
       "columns": [
        {
         "name": "index",
         "rawType": "int64",
         "type": "integer"
        },
        {
         "name": "Gene",
         "rawType": "object",
         "type": "string"
        },
        {
         "name": "Sample",
         "rawType": "object",
         "type": "string"
        },
        {
         "name": "Expression",
         "rawType": "float64",
         "type": "float"
        }
       ],
       "conversionMethod": "pd.DataFrame",
       "ref": "ccaee465-eb6b-4f7b-b199-5b87e6ef5ba4",
       "rows": [
        [
         "0",
         "TP53",
         "S1",
         "12.5"
        ],
        [
         "1",
         "BRCA1",
         "S1",
         "8.2"
        ],
        [
         "2",
         "EGFR",
         "S1",
         "15.6"
        ],
        [
         "3",
         "MYC",
         "S1",
         "9.1"
        ],
        [
         "4",
         "APOE",
         "S1",
         "7.4"
        ],
        [
         "5",
         "TP53",
         "S2",
         "14.2"
        ],
        [
         "6",
         "BRCA1",
         "S2",
         "9.5"
        ],
        [
         "7",
         "EGFR",
         "S2",
         "17.8"
        ],
        [
         "8",
         "MYC",
         "S2",
         "8.7"
        ],
        [
         "9",
         "APOE",
         "S2",
         "6.9"
        ],
        [
         "10",
         "TP53",
         "S3",
         "13.1"
        ],
        [
         "11",
         "BRCA1",
         "S3",
         "8.9"
        ],
        [
         "12",
         "EGFR",
         "S3",
         "16.4"
        ],
        [
         "13",
         "MYC",
         "S3",
         "9.9"
        ],
        [
         "14",
         "APOE",
         "S3",
         "7.2"
        ]
       ],
       "shape": {
        "columns": 3,
        "rows": 15
       }
      },
      "text/html": [
       "<div>\n",
       "<style scoped>\n",
       "    .dataframe tbody tr th:only-of-type {\n",
       "        vertical-align: middle;\n",
       "    }\n",
       "\n",
       "    .dataframe tbody tr th {\n",
       "        vertical-align: top;\n",
       "    }\n",
       "\n",
       "    .dataframe thead th {\n",
       "        text-align: right;\n",
       "    }\n",
       "</style>\n",
       "<table border=\"1\" class=\"dataframe\">\n",
       "  <thead>\n",
       "    <tr style=\"text-align: right;\">\n",
       "      <th></th>\n",
       "      <th>Gene</th>\n",
       "      <th>Sample</th>\n",
       "      <th>Expression</th>\n",
       "    </tr>\n",
       "  </thead>\n",
       "  <tbody>\n",
       "    <tr>\n",
       "      <th>0</th>\n",
       "      <td>TP53</td>\n",
       "      <td>S1</td>\n",
       "      <td>12.5</td>\n",
       "    </tr>\n",
       "    <tr>\n",
       "      <th>1</th>\n",
       "      <td>BRCA1</td>\n",
       "      <td>S1</td>\n",
       "      <td>8.2</td>\n",
       "    </tr>\n",
       "    <tr>\n",
       "      <th>2</th>\n",
       "      <td>EGFR</td>\n",
       "      <td>S1</td>\n",
       "      <td>15.6</td>\n",
       "    </tr>\n",
       "    <tr>\n",
       "      <th>3</th>\n",
       "      <td>MYC</td>\n",
       "      <td>S1</td>\n",
       "      <td>9.1</td>\n",
       "    </tr>\n",
       "    <tr>\n",
       "      <th>4</th>\n",
       "      <td>APOE</td>\n",
       "      <td>S1</td>\n",
       "      <td>7.4</td>\n",
       "    </tr>\n",
       "    <tr>\n",
       "      <th>5</th>\n",
       "      <td>TP53</td>\n",
       "      <td>S2</td>\n",
       "      <td>14.2</td>\n",
       "    </tr>\n",
       "    <tr>\n",
       "      <th>6</th>\n",
       "      <td>BRCA1</td>\n",
       "      <td>S2</td>\n",
       "      <td>9.5</td>\n",
       "    </tr>\n",
       "    <tr>\n",
       "      <th>7</th>\n",
       "      <td>EGFR</td>\n",
       "      <td>S2</td>\n",
       "      <td>17.8</td>\n",
       "    </tr>\n",
       "    <tr>\n",
       "      <th>8</th>\n",
       "      <td>MYC</td>\n",
       "      <td>S2</td>\n",
       "      <td>8.7</td>\n",
       "    </tr>\n",
       "    <tr>\n",
       "      <th>9</th>\n",
       "      <td>APOE</td>\n",
       "      <td>S2</td>\n",
       "      <td>6.9</td>\n",
       "    </tr>\n",
       "    <tr>\n",
       "      <th>10</th>\n",
       "      <td>TP53</td>\n",
       "      <td>S3</td>\n",
       "      <td>13.1</td>\n",
       "    </tr>\n",
       "    <tr>\n",
       "      <th>11</th>\n",
       "      <td>BRCA1</td>\n",
       "      <td>S3</td>\n",
       "      <td>8.9</td>\n",
       "    </tr>\n",
       "    <tr>\n",
       "      <th>12</th>\n",
       "      <td>EGFR</td>\n",
       "      <td>S3</td>\n",
       "      <td>16.4</td>\n",
       "    </tr>\n",
       "    <tr>\n",
       "      <th>13</th>\n",
       "      <td>MYC</td>\n",
       "      <td>S3</td>\n",
       "      <td>9.9</td>\n",
       "    </tr>\n",
       "    <tr>\n",
       "      <th>14</th>\n",
       "      <td>APOE</td>\n",
       "      <td>S3</td>\n",
       "      <td>7.2</td>\n",
       "    </tr>\n",
       "  </tbody>\n",
       "</table>\n",
       "</div>"
      ],
      "text/plain": [
       "     Gene Sample  Expression\n",
       "0    TP53     S1        12.5\n",
       "1   BRCA1     S1         8.2\n",
       "2    EGFR     S1        15.6\n",
       "3     MYC     S1         9.1\n",
       "4    APOE     S1         7.4\n",
       "5    TP53     S2        14.2\n",
       "6   BRCA1     S2         9.5\n",
       "7    EGFR     S2        17.8\n",
       "8     MYC     S2         8.7\n",
       "9    APOE     S2         6.9\n",
       "10   TP53     S3        13.1\n",
       "11  BRCA1     S3         8.9\n",
       "12   EGFR     S3        16.4\n",
       "13    MYC     S3         9.9\n",
       "14   APOE     S3         7.2"
      ]
     },
     "execution_count": 61,
     "metadata": {},
     "output_type": "execute_result"
    }
   ],
   "source": [
    "\n",
    "data = {\n",
    "    'Gene': ['TP53', 'BRCA1', 'EGFR', 'MYC', 'APOE', 'TP53', 'BRCA1', 'EGFR', 'MYC', 'APOE',\n",
    "             'TP53', 'BRCA1', 'EGFR', 'MYC', 'APOE'],\n",
    "    'Sample': ['S1', 'S1', 'S1', 'S1', 'S1', 'S2', 'S2', 'S2', 'S2', 'S2',\n",
    "               'S3', 'S3', 'S3', 'S3', 'S3'],\n",
    "    'Expression': [12.5, 8.2, 15.6, 9.1, 7.4, 14.2, 9.5, 17.8, 8.7, 6.9,\n",
    "                   13.1, 8.9, 16.4, 9.9, 7.2]\n",
    "}\n",
    "\n",
    "df = pd.DataFrame(data)\n",
    "\n",
    "mean_expression = df.groupby('Gene')['Expression'].mean().reset_index()\n",
    "sorted = mean_expression.sort_values(by = ['Expression'], ascending=False)\n",
    "top_five = sorted.head(5)\n",
    "result = df[df['Gene'].isin(top_five['Gene'])]\n",
    "result\n",
    "\n",
    "#result = df[df['Gene'] == max_gene]\n"
   ]
  },
  {
   "cell_type": "code",
   "execution_count": null,
   "metadata": {},
   "outputs": [
    {
     "data": {
      "application/vnd.microsoft.datawrangler.viewer.v0+json": {
       "columns": [
        {
         "name": "index",
         "rawType": "int64",
         "type": "integer"
        },
        {
         "name": "Gene",
         "rawType": "object",
         "type": "string"
        },
        {
         "name": "Sample",
         "rawType": "object",
         "type": "string"
        },
        {
         "name": "Expression",
         "rawType": "int64",
         "type": "integer"
        }
       ],
       "conversionMethod": "pd.DataFrame",
       "ref": "b2ce536f-8428-4ae7-b1aa-6e2d411987dd",
       "rows": [
        [
         "0",
         "Gene1",
         "Sample1",
         "10"
        ],
        [
         "1",
         "Gene2",
         "Sample1",
         "15"
        ],
        [
         "2",
         "Gene1",
         "Sample2",
         "5"
        ],
        [
         "3",
         "Gene2",
         "Sample2",
         "20"
        ],
        [
         "4",
         "Gene1",
         "Sample3",
         "30"
        ],
        [
         "5",
         "Gene2",
         "Sample3",
         "35"
        ]
       ],
       "shape": {
        "columns": 3,
        "rows": 6
       }
      },
      "text/html": [
       "<div>\n",
       "<style scoped>\n",
       "    .dataframe tbody tr th:only-of-type {\n",
       "        vertical-align: middle;\n",
       "    }\n",
       "\n",
       "    .dataframe tbody tr th {\n",
       "        vertical-align: top;\n",
       "    }\n",
       "\n",
       "    .dataframe thead th {\n",
       "        text-align: right;\n",
       "    }\n",
       "</style>\n",
       "<table border=\"1\" class=\"dataframe\">\n",
       "  <thead>\n",
       "    <tr style=\"text-align: right;\">\n",
       "      <th></th>\n",
       "      <th>Gene</th>\n",
       "      <th>Sample</th>\n",
       "      <th>Expression</th>\n",
       "    </tr>\n",
       "  </thead>\n",
       "  <tbody>\n",
       "    <tr>\n",
       "      <th>0</th>\n",
       "      <td>Gene1</td>\n",
       "      <td>Sample1</td>\n",
       "      <td>10</td>\n",
       "    </tr>\n",
       "    <tr>\n",
       "      <th>1</th>\n",
       "      <td>Gene2</td>\n",
       "      <td>Sample1</td>\n",
       "      <td>15</td>\n",
       "    </tr>\n",
       "    <tr>\n",
       "      <th>2</th>\n",
       "      <td>Gene1</td>\n",
       "      <td>Sample2</td>\n",
       "      <td>5</td>\n",
       "    </tr>\n",
       "    <tr>\n",
       "      <th>3</th>\n",
       "      <td>Gene2</td>\n",
       "      <td>Sample2</td>\n",
       "      <td>20</td>\n",
       "    </tr>\n",
       "    <tr>\n",
       "      <th>4</th>\n",
       "      <td>Gene1</td>\n",
       "      <td>Sample3</td>\n",
       "      <td>30</td>\n",
       "    </tr>\n",
       "    <tr>\n",
       "      <th>5</th>\n",
       "      <td>Gene2</td>\n",
       "      <td>Sample3</td>\n",
       "      <td>35</td>\n",
       "    </tr>\n",
       "  </tbody>\n",
       "</table>\n",
       "</div>"
      ],
      "text/plain": [
       "    Gene   Sample  Expression\n",
       "0  Gene1  Sample1          10\n",
       "1  Gene2  Sample1          15\n",
       "2  Gene1  Sample2           5\n",
       "3  Gene2  Sample2          20\n",
       "4  Gene1  Sample3          30\n",
       "5  Gene2  Sample3          35"
      ]
     },
     "execution_count": 10,
     "metadata": {},
     "output_type": "execute_result"
    }
   ],
   "source": [
    "import pandas as pd\n",
    "dataset = {'Gene': ['Gene1', 'Gene2', 'Gene1', 'Gene2', 'Gene1', 'Gene2'],\n",
    "           'Sample': ['Sample1', 'Sample1', 'Sample2', 'Sample2', 'Sample3', 'Sample3'],\n",
    "           'Expression': [10, 15, 5, 20, 30, 35]}\n",
    "df = pd.DataFrame(dataset)\n",
    "#print(df)\n",
    "\n",
    "# get average expression for each sample\n",
    "mean_samples = df.groupby('Sample')['Expression'].mean().reset_index()\n",
    "# sort to get the highest \n",
    "sorted = mean_samples.sort_values(by = 'Expression', ascending = False)\n",
    "# head to get the top 3\n",
    "top = sorted.head(3)\n",
    "# Filter original dataset to get only top hits\n",
    "result = df[df['Sample'].isin(top['Sample'])]\n",
    "\n",
    "result"
   ]
  },
  {
   "cell_type": "code",
   "execution_count": null,
   "metadata": {},
   "outputs": [],
   "source": [
    "import pandas as pd\n",
    "\n",
    "data = {\n",
    "    'Gene': ['Gene1', 'Gene2', 'Gene3', 'Gene1', 'Gene2', 'Gene3', 'Gene1', 'Gene2', 'Gene3'],\n",
    "    'Condition': ['Control', 'Control', 'Control', 'Treated', 'Treated', 'Treated', 'Disease', 'Disease', 'Disease'],\n",
    "    'Expression': [10, 15, 5, 30, 45, 10, 5, 10, 2]\n",
    "}\n",
    "\n",
    "df = pd.DataFrame(data)\n",
    "\n",
    "# Get the mean expression for each gene in each condition\n",
    "mean_expression = df.groupby(['Gene'])['Expression'].mean().reset_index()\n",
    "mean_expression.head()\n",
    "\n",
    "# merge the mean expression data\n",
    "merged = df.merge(mean_expression, on=['Gene'], suffixes=('', '_mean'))\n",
    "# get the genes that are higher than 2 fold change vs mean\n",
    "twofold = merged[merged['Expression'] >= merged['Expression_mean'] * 2]\n",
    "twofold\n",
    "top_3 = twofold.sort_values(by=(twofold['Expression']/twofold['Expression_mean']), ascending=False).head(3)\n",
    "#top_3\n",
    "# return the top 3 deffferentially expressed genes based on the fold change"
   ]
  },
  {
   "cell_type": "code",
   "execution_count": 54,
   "metadata": {},
   "outputs": [
    {
     "data": {
      "text/plain": [
       "1.0"
      ]
     },
     "execution_count": 54,
     "metadata": {},
     "output_type": "execute_result"
    }
   ],
   "source": [
    "#import pandas as pd\n",
    "from sklearn.model_selection import train_test_split\n",
    "from sklearn.linear_model import LogisticRegression\n",
    "from sklearn.metrics import accuracy_score\n",
    "\n",
    "data = {\n",
    "    'Gene1': [5.1, 4.9, 4.7, 6.1, 5.9, 5.8, 7.1, 6.8, 6.5, 5.5],\n",
    "    'Gene2': [3.5, 3.0, 3.2, 3.3, 3.0, 3.1, 3.8, 3.2, 3.0, 3.6],\n",
    "    'Gene3': [1.4, 1.4, 1.3, 1.8, 1.7, 1.6, 2.5, 2.3, 2.0, 1.4],\n",
    "    'Condition': ['Control', 'Control', 'Control', 'Treated', 'Treated', 'Treated', 'Treated', 'Treated', 'Control', 'Control']\n",
    "}\n",
    "\n",
    "df = pd.DataFrame(data)\n",
    "mapping = {'Control': 0, 'Treated': 1}\n",
    "df['Condition_numeric'] = df['Condition'].map(mapping)\n",
    "X = df[['Gene1', 'Gene2', 'Gene3']]\n",
    "y = df['Condition_numeric']\n",
    "X_train, X_test, y_train, y_test = train_test_split(X, y, test_size=0.2)\n",
    "model = LogisticRegression()\n",
    "model = model.fit(X_train, y_train)\n",
    "prediction = model.predict(X_test)\n",
    "accuracy_score(prediction, y_test)"
   ]
  },
  {
   "cell_type": "code",
   "execution_count": null,
   "metadata": {},
   "outputs": [
    {
     "data": {
      "text/plain": [
       "array([1, 0])"
      ]
     },
     "execution_count": 4,
     "metadata": {},
     "output_type": "execute_result"
    }
   ],
   "source": [
    "import pandas as pd\n",
    "from sklearn.model_selection import train_test_split\n",
    "from sklearn.tree import DecisionTreeClassifier\n",
    "from sklearn.metrics import accuracy_score, confusion_matrix\n",
    "\n",
    "data = {\n",
    "    'GeneA': [2.1, 3.4, 1.8, 4.5, 3.2, 3.7, 2.8, 3.9, 1.5, 4.1],\n",
    "    'GeneB': [1.2, 3.1, 2.9, 3.7, 2.5, 3.0, 2.1, 3.5, 1.8, 2.9],\n",
    "    'GeneC': [3.3, 2.8, 3.5, 4.1, 3.0, 2.7, 3.2, 3.6, 2.9, 3.8],\n",
    "    'Disease_Status': ['Healthy', 'Diseased', 'Healthy', 'Diseased', 'Diseased', \n",
    "                       'Healthy', 'Healthy', 'Diseased', 'Healthy', 'Diseased']\n",
    "}\n",
    "\n",
    "df = pd.DataFrame(data)\n",
    "\n",
    "mapping = {'Healthy': 0, 'Diseased': 1}\n",
    "\n",
    "\n",
    "df['Disease_Status_binary'] = df['Disease_Status'].map(mapping) \n",
    "X = df[['GeneA', 'GeneB', 'GeneC']]\n",
    "y = df['Disease_Status_binary']\n",
    "X_train, X_test, y_train, y_test = train_test_split(X, y, test_size=0.2, random_state=69)\n",
    "\n",
    "model = DecisionTreeClassifier()\n",
    "model = model.fit(X_train, y_train)\n",
    "prediction = model.predict(X_test)\n",
    "\n",
    "accuracy_score(prediction, y_test) \n",
    "confusion_matrix(prediction, y_test)\n"
   ]
  },
  {
   "cell_type": "code",
   "execution_count": null,
   "metadata": {},
   "outputs": [
    {
     "name": "stdout",
     "output_type": "stream",
     "text": [
      "[1 0]\n"
     ]
    },
    {
     "data": {
      "text/plain": [
       "array([1, 0])"
      ]
     },
     "execution_count": 33,
     "metadata": {},
     "output_type": "execute_result"
    }
   ],
   "source": [
    "import pandas as pd\n",
    "from sklearn.model_selection import train_test_split\n",
    "from sklearn.ensemble import RandomForestClassifier\n",
    "from sklearn.metrics import accuracy_score, confusion_matrix\n",
    "\n",
    "# Sample data\n",
    "data = {\n",
    "    'GeneX': [2.1, 3.4, 1.8, 4.5, 3.2, 3.7, 2.8, 3.9, 1.5, 4.1],\n",
    "    'GeneY': [1.2, 3.1, 2.9, 3.7, 2.5, 3.0, 2.1, 3.5, 1.8, 2.9],\n",
    "    'GeneZ': [3.3, 2.8, 3.5, 4.1, 3.0, 2.7, 3.2, 3.6, 2.9, 3.8],\n",
    "    'Disease_Status': ['Healthy', 'Diseased', 'Healthy', 'Diseased', 'Diseased', \n",
    "                       'Healthy', 'Healthy', 'Diseased', 'Healthy', 'Diseased']\n",
    "}\n",
    "\n",
    "df = pd.DataFrame(data)\n",
    "\n",
    "mapping = {'Healthy': 0, 'Diseased': 1}\n",
    "df['Disease_Status_binary'] = df['Disease_Status'].map(mapping)\n",
    "\n",
    "X = df[['GeneX', 'GeneY', 'GeneZ']]\n",
    "y = df['Disease_Status_binary']\n",
    "\n",
    "X_train, X_test, y_train, y_test = train_test_split(X, y, test_size=.2, random_state=69)\n",
    "\n",
    "model = RandomForestClassifier()\n",
    "model = model.fit(X_train, y_train)\n",
    "prediction = model.predict(X_test)\n",
    "accuracy_score(y_test, prediction)\n",
    "confusion_matrix(y_test, prediction)\n",
    "print(y_test.values)\n",
    "prediction\n",
    "\n"
   ]
  },
  {
   "cell_type": "code",
   "execution_count": 60,
   "metadata": {},
   "outputs": [
    {
     "name": "stdout",
     "output_type": "stream",
     "text": [
      "Confusion Matrix:\n",
      " [[0 0]\n",
      " [2 0]]\n",
      "Accuracy Score: 0.0\n"
     ]
    }
   ],
   "source": [
    "import pandas as pd\n",
    "from sklearn.model_selection import train_test_split\n",
    "from sklearn.ensemble import GradientBoostingClassifier\n",
    "from sklearn.preprocessing import StandardScaler\n",
    "from sklearn.metrics import accuracy_score, confusion_matrix\n",
    "\n",
    "# Sample dataset\n",
    "data = {\n",
    "    'Hydrophobicity': [0.62, -0.29, 0.88, 0.35, -0.12, 0.47, 0.71, 0.15, -0.22, 0.56],\n",
    "    'Charge': [1, -1, 0, 1, -1, 1, 0, -1, 1, 0],\n",
    "    'Molecular_Weight': [50.2, 45.3, 55.1, 48.7, 47.6, 51.9, 49.8, 46.2, 44.1, 53.0],\n",
    "    'Solvent_Accessibility': [120, 140, 110, 130, 125, 135, 145, 115, 105, 128],\n",
    "    'Catalytic_Efficiency': ['High', 'Low', 'High', 'High', 'Low', \n",
    "                              'High', 'Low', 'Low', 'High', 'Low']\n",
    "}\n",
    "\n",
    "df = pd.DataFrame(data)\n",
    "\n",
    "# Convert categorical labels to numeric\n",
    "mapping = {'High': 1, 'Low': 0}\n",
    "df['Catalytic_Efficiency_numeric'] = df['Catalytic_Efficiency'].map(mapping)\n",
    "\n",
    "# Define features and target\n",
    "X = df[['Hydrophobicity', 'Charge', 'Molecular_Weight', 'Solvent_Accessibility']]\n",
    "y = df['Catalytic_Efficiency_numeric']\n",
    "\n",
    "# Split dataset into training and testing sets\n",
    "X_train, X_test, y_train, y_test = train_test_split(X, y, test_size=0.2, random_state=69)\n",
    "\n",
    "# Train Gradient Boosting Classifier\n",
    "model = GradientBoostingClassifier()\n",
    "model.fit(X_train, y_train)\n",
    "\n",
    "# Make predictions on the test set\n",
    "y_pred = model.predict(X_test)\n",
    "\n",
    "# Evaluate model performance\n",
    "accuracy = accuracy_score(y_test, y_pred)\n",
    "conf_matrix = confusion_matrix(y_test, y_pred)\n",
    "\n",
    "print(\"Confusion Matrix:\\n\", conf_matrix)\n",
    "print(\"Accuracy Score:\", accuracy)\n",
    "\n"
   ]
  },
  {
   "cell_type": "code",
   "execution_count": null,
   "metadata": {},
   "outputs": [
    {
     "name": "stdout",
     "output_type": "stream",
     "text": [
      "\n",
      "Test Accuracy: 0.63\n",
      "\n",
      "Confusion Matrix:\n",
      " [[ 3 28]\n",
      " [ 9 60]]\n",
      "\n",
      "Classification Report:\n",
      "               precision    recall  f1-score   support\n",
      "\n",
      "           0       0.25      0.10      0.14        31\n",
      "           1       0.68      0.87      0.76        69\n",
      "\n",
      "    accuracy                           0.63       100\n",
      "   macro avg       0.47      0.48      0.45       100\n",
      "weighted avg       0.55      0.63      0.57       100\n",
      "\n",
      "\n",
      "Best Parameters: {'max_depth': 10, 'min_samples_split': 10, 'n_estimators': 200}\n",
      "\n",
      "Optimized Accuracy: 0.67\n"
     ]
    }
   ],
   "source": [
    "\n",
    "# Standardize\n",
    "scaler = StandardScaler()\n",
    "X_scaled = scaler.fit_transform(X)\n",
    "\n",
    "# "
   ]
  },
  {
   "cell_type": "code",
   "execution_count": 69,
   "metadata": {},
   "outputs": [
    {
     "data": {
      "application/vnd.microsoft.datawrangler.viewer.v0+json": {
       "columns": [
        {
         "name": "index",
         "rawType": "int64",
         "type": "integer"
        },
        {
         "name": "Product",
         "rawType": "object",
         "type": "string"
        },
        {
         "name": "Sales",
         "rawType": "int64",
         "type": "integer"
        }
       ],
       "conversionMethod": "pd.DataFrame",
       "ref": "bfa8cf5e-b39d-444a-9ff6-957e407357f7",
       "rows": [
        [
         "3",
         "D",
         "450"
        ],
        [
         "1",
         "B",
         "300"
        ],
        [
         "4",
         "E",
         "200"
        ]
       ],
       "shape": {
        "columns": 2,
        "rows": 3
       }
      },
      "text/html": [
       "<div>\n",
       "<style scoped>\n",
       "    .dataframe tbody tr th:only-of-type {\n",
       "        vertical-align: middle;\n",
       "    }\n",
       "\n",
       "    .dataframe tbody tr th {\n",
       "        vertical-align: top;\n",
       "    }\n",
       "\n",
       "    .dataframe thead th {\n",
       "        text-align: right;\n",
       "    }\n",
       "</style>\n",
       "<table border=\"1\" class=\"dataframe\">\n",
       "  <thead>\n",
       "    <tr style=\"text-align: right;\">\n",
       "      <th></th>\n",
       "      <th>Product</th>\n",
       "      <th>Sales</th>\n",
       "    </tr>\n",
       "  </thead>\n",
       "  <tbody>\n",
       "    <tr>\n",
       "      <th>3</th>\n",
       "      <td>D</td>\n",
       "      <td>450</td>\n",
       "    </tr>\n",
       "    <tr>\n",
       "      <th>1</th>\n",
       "      <td>B</td>\n",
       "      <td>300</td>\n",
       "    </tr>\n",
       "    <tr>\n",
       "      <th>4</th>\n",
       "      <td>E</td>\n",
       "      <td>200</td>\n",
       "    </tr>\n",
       "  </tbody>\n",
       "</table>\n",
       "</div>"
      ],
      "text/plain": [
       "  Product  Sales\n",
       "3       D    450\n",
       "1       B    300\n",
       "4       E    200"
      ]
     },
     "execution_count": 69,
     "metadata": {},
     "output_type": "execute_result"
    }
   ],
   "source": [
    "import pandas as pd\n",
    "\n",
    "data = {\n",
    "    'Product': ['A', 'B', 'C', 'D', 'E'],\n",
    "    'Sales': [120, 300, 150, 450, 200]\n",
    "}\n",
    "df = pd.DataFrame(data)\n",
    "\n",
    "sorted = df.sort_values('Sales', ascending = False)\n",
    "\n",
    "sorted.head(3)\n",
    "\n",
    "# Your code here\n"
   ]
  },
  {
   "cell_type": "code",
   "execution_count": null,
   "metadata": {},
   "outputs": [
    {
     "ename": "ValueError",
     "evalue": "empty separator",
     "output_type": "error",
     "traceback": [
      "\u001b[0;31m---------------------------------------------------------------------------\u001b[0m",
      "\u001b[0;31mValueError\u001b[0m                                Traceback (most recent call last)",
      "Cell \u001b[0;32mIn[78], line 12\u001b[0m\n\u001b[1;32m      8\u001b[0m     \u001b[38;5;28;01mreturn\u001b[39;00m empty_string\n\u001b[1;32m     10\u001b[0m string \u001b[38;5;241m=\u001b[39m \u001b[38;5;124m'\u001b[39m\u001b[38;5;124mABCDE\u001b[39m\u001b[38;5;124m'\u001b[39m\n\u001b[0;32m---> 12\u001b[0m \u001b[38;5;28mprint\u001b[39m(\u001b[43mreverse_string\u001b[49m\u001b[43m(\u001b[49m\u001b[43mstring\u001b[49m\u001b[43m)\u001b[49m)\n",
      "Cell \u001b[0;32mIn[78], line 3\u001b[0m, in \u001b[0;36mreverse_string\u001b[0;34m(s)\u001b[0m\n\u001b[1;32m      1\u001b[0m \u001b[38;5;28;01mdef\u001b[39;00m \u001b[38;5;21mreverse_string\u001b[39m(s):\n\u001b[1;32m      2\u001b[0m     i \u001b[38;5;241m=\u001b[39m \u001b[38;5;241m0\u001b[39m\n\u001b[0;32m----> 3\u001b[0m     string \u001b[38;5;241m=\u001b[39m \u001b[43ms\u001b[49m\u001b[38;5;241;43m.\u001b[39;49m\u001b[43msplit\u001b[49m\u001b[43m(\u001b[49m\u001b[38;5;124;43m\"\u001b[39;49m\u001b[38;5;124;43m\"\u001b[39;49m\u001b[43m)\u001b[49m\n\u001b[1;32m      4\u001b[0m     empty_string \u001b[38;5;241m=\u001b[39m \u001b[38;5;124m'\u001b[39m\u001b[38;5;124m'\u001b[39m\n\u001b[1;32m      5\u001b[0m     \u001b[38;5;28;01mfor\u001b[39;00m letter \u001b[38;5;129;01min\u001b[39;00m string:\n",
      "\u001b[0;31mValueError\u001b[0m: empty separator"
     ]
    }
   ],
   "source": [
    "def reverse_string(s):\n",
    "    i = 0\n",
    "    string = s.split()\n",
    "    empty_string = ''\n",
    "    for letter in string:\n",
    "        empty_string += (string[i])\n",
    "        i += 1\n",
    "    return empty_string\n",
    "\n",
    "string = 'ABCDE'\n",
    "\n",
    "print(reverse_string(string))\n",
    "\n"
   ]
  },
  {
   "cell_type": "code",
   "execution_count": 1,
   "metadata": {},
   "outputs": [],
   "source": [
    "from sklearn.model_selection import train_test_split\n",
    "from sklearn.tree import DecisionTreeClassifier\n",
    "from sklearn.metrics import accuracy_score\n",
    "\n",
    "# Example dataset\n",
    "X = [[1, 2], [3, 4], [5, 6], [7, 8]]\n",
    "y = [0, 1, 0, 1]\n",
    "\n",
    "X_train, X_test, y_train, y_test = train_test_split(X, y, test_size=0.5, random_state=42)\n",
    "\n",
    "# Your code here\n"
   ]
  },
  {
   "cell_type": "code",
   "execution_count": 17,
   "metadata": {},
   "outputs": [
    {
     "data": {
      "text/plain": [
       "0.0"
      ]
     },
     "execution_count": 17,
     "metadata": {},
     "output_type": "execute_result"
    }
   ],
   "source": [
    "from sklearn.model_selection import train_test_split\n",
    "from sklearn.tree import DecisionTreeClassifier\n",
    "from sklearn.metrics import accuracy_score\n",
    "from sklearn.metrics import confusion_matrix\n",
    "# Example dataset\n",
    "X = [[1, 2], [3, 4], [5, 6], [7, 8]]\n",
    "y = [0, 1, 0, 1]\n",
    "\n",
    "X_train, X_test, y_train, y_test = train_test_split(X, y, test_size=0.5, random_state=42)\n",
    "\n",
    "model = DecisionTreeClassifier()\n",
    "model = model.fit(X_train, y_train)\n",
    "prediction = model.predict(X_test)\n",
    "\n",
    "confusion_matrix(y_test, prediction)\n",
    "accuracy_score(y_test, prediction)\n",
    "# Your code here\n",
    "\n"
   ]
  },
  {
   "cell_type": "code",
   "execution_count": 24,
   "metadata": {},
   "outputs": [
    {
     "ename": "IndexError",
     "evalue": "list index out of range",
     "output_type": "error",
     "traceback": [
      "\u001b[0;31m---------------------------------------------------------------------------\u001b[0m",
      "\u001b[0;31mIndexError\u001b[0m                                Traceback (most recent call last)",
      "Cell \u001b[0;32mIn[24], line 14\u001b[0m\n\u001b[1;32m     11\u001b[0m             i\u001b[38;5;241m+\u001b[39m\u001b[38;5;241m=\u001b[39m\u001b[38;5;241m1\u001b[39m\n\u001b[1;32m     12\u001b[0m     \u001b[38;5;28;01mpass\u001b[39;00m\n\u001b[0;32m---> 14\u001b[0m \u001b[43mfirst_non_repeating_char\u001b[49m\u001b[43m(\u001b[49m\u001b[43mstring\u001b[49m\u001b[43m)\u001b[49m\n\u001b[1;32m     15\u001b[0m \u001b[38;5;66;03m# go through each letter in string\u001b[39;00m\n\u001b[1;32m     16\u001b[0m \n\u001b[1;32m     17\u001b[0m \u001b[38;5;66;03m# add to a list\u001b[39;00m\n\u001b[1;32m     18\u001b[0m \u001b[38;5;66;03m# check if letter added is equal to the previous letter\u001b[39;00m\n\u001b[1;32m     19\u001b[0m \u001b[38;5;66;03m# if not, return letter\u001b[39;00m\n",
      "Cell \u001b[0;32mIn[24], line 8\u001b[0m, in \u001b[0;36mfirst_non_repeating_char\u001b[0;34m(s)\u001b[0m\n\u001b[1;32m      6\u001b[0m \u001b[38;5;28;01mfor\u001b[39;00m letter \u001b[38;5;129;01min\u001b[39;00m string:\n\u001b[1;32m      7\u001b[0m     \u001b[38;5;28mlist\u001b[39m\u001b[38;5;241m.\u001b[39mappend(letter)\n\u001b[0;32m----> 8\u001b[0m     \u001b[38;5;28;01mif\u001b[39;00m \u001b[38;5;28mlist\u001b[39m[i\u001b[38;5;241m-\u001b[39m\u001b[38;5;241m1\u001b[39m] \u001b[38;5;241m!=\u001b[39m letter \u001b[38;5;129;01mand\u001b[39;00m \u001b[38;5;28;43mlist\u001b[39;49m\u001b[43m[\u001b[49m\u001b[43mi\u001b[49m\u001b[38;5;241;43m+\u001b[39;49m\u001b[38;5;241;43m1\u001b[39;49m\u001b[43m]\u001b[49m \u001b[38;5;241m!=\u001b[39m letter:\n\u001b[1;32m      9\u001b[0m         \u001b[38;5;28;01mreturn\u001b[39;00m letter\n\u001b[1;32m     10\u001b[0m     \u001b[38;5;28;01melse\u001b[39;00m:\n",
      "\u001b[0;31mIndexError\u001b[0m: list index out of range"
     ]
    }
   ],
   "source": [
    "string = 'AAAAEEEEGGGGDDDCUUUUU'\n",
    "\n",
    "def first_non_repeating_char(s):\n",
    "    list = []\n",
    "    i = 0\n",
    "    for letter in string:\n",
    "        list.append(letter)\n",
    "        if list[i-1] != letter and list[i+1] != letter:\n",
    "            return letter\n",
    "        else:\n",
    "            i+=1\n",
    "    pass\n",
    "\n",
    "first_non_repeating_char(string)\n",
    "# go through each letter in string\n",
    "\n",
    "# add to a list\n",
    "# check if letter added is equal to the previous letter\n",
    "# if not, return letter"
   ]
  },
  {
   "cell_type": "markdown",
   "metadata": {},
   "source": [
    "You have RNA-seq expression data stored as a NumPy array, where rows represent genes, and columns represent samples. The dataset is stored in X, and y contains binary labels (0 = control, 1 = disease).\n",
    "\n",
    "Your task:\n",
    "\n",
    "- Normalize the data using Z-score normalization (per gene).\n",
    "- Select the top 100 most variable genes (highest standard deviation).\n",
    "- Split the data into a training (80%) and test set (20%).\n",
    "- Train a logistic regression classifier and evaluate its performance.\n",
    "\n",
    "Expected Output (Example)\n",
    "Shape of filtered dataset: (100, 50)\n",
    "Train/test accuracy: ~0.6-0.9 (depending on random data)\n",
    "Hints:\n",
    "Z-score Normalization:\n",
    "𝑋norm=𝑋−𝜇/𝜎\n",
    "\n",
    "Use np.mean() and np.std() along axis=1 (genes).\n",
    "Feature Selection (Top 100 Most Variable Genes):\n",
    "Compute standard deviation per row.\n",
    "Select the top 100 genes.\n",
    "Train/Test Split:\n",
    "Use train_test_split() with test_size=0.2.\n",
    "Train Model:\n",
    "Fit a LogisticRegression() model.\n",
    "Evaluate accuracy using accuracy_score().\n",
    "\n",
    "\n"
   ]
  },
  {
   "cell_type": "code",
   "execution_count": null,
   "metadata": {},
   "outputs": [
    {
     "data": {
      "text/plain": [
       "(50,)"
      ]
     },
     "execution_count": 19,
     "metadata": {},
     "output_type": "execute_result"
    }
   ],
   "source": [
    "\n",
    "import numpy as np\n",
    "from sklearn.model_selection import train_test_split\n",
    "from sklearn.linear_model import LogisticRegression\n",
    "from sklearn.metrics import accuracy_score, confusion_matrix\n",
    "from sklearn.preprocessing import StandardScaler\n",
    "\n",
    "# Simulated RNA-seq data (1000 genes, 50 samples)\n",
    "np.random.seed(42)\n",
    "X = np.random.rand(1000, 50) * 100  # Expression values (genes x samples)\n",
    "y = np.random.choice([0, 1], size=50)  # Binary labels (one per sample)\n"
   ]
  },
  {
   "cell_type": "code",
   "execution_count": 24,
   "metadata": {},
   "outputs": [
    {
     "name": "stdout",
     "output_type": "stream",
     "text": [
      "(1000,)\n",
      "(100,)\n",
      "(100, 50)\n"
     ]
    }
   ],
   "source": [
    "# Select top 100 most variable genes\n",
    "gene_variability = np.std(X, axis=1)  # Standard deviation per gene\n",
    "print(gene_variability.shape)\n",
    "#print(gene_variability)\n",
    "top_100_genes = np.argsort(gene_variability)[-100:]  # Indices of top 100 genes\n",
    "print(top_100_genes.shape)\n",
    "#print(top_100_genes)\n",
    "X_filtered = X[top_100_genes, :]  # Select most variable genes\n",
    "print(X_filtered.shape)\n"
   ]
  },
  {
   "cell_type": "code",
   "execution_count": 27,
   "metadata": {},
   "outputs": [
    {
     "data": {
      "text/plain": [
       "(50, 100)"
      ]
     },
     "execution_count": 27,
     "metadata": {},
     "output_type": "execute_result"
    }
   ],
   "source": [
    "# Normalize using StandardScaler (Z-score normalization)\n",
    "scaler = StandardScaler()\n",
    "X_scaled = scaler.fit_transform(X_filtered.T)  # Transpose for ML (samples x genes)\n",
    "X_scaled.shape"
   ]
  },
  {
   "cell_type": "code",
   "execution_count": 28,
   "metadata": {},
   "outputs": [],
   "source": [
    "# Train/test split\n",
    "X_train, X_test, y_train, y_test = train_test_split(X_scaled, y, test_size=0.2, random_state=42)\n"
   ]
  },
  {
   "cell_type": "code",
   "execution_count": 31,
   "metadata": {},
   "outputs": [
    {
     "data": {
      "text/html": [
       "<style>#sk-container-id-2 {\n",
       "  /* Definition of color scheme common for light and dark mode */\n",
       "  --sklearn-color-text: #000;\n",
       "  --sklearn-color-text-muted: #666;\n",
       "  --sklearn-color-line: gray;\n",
       "  /* Definition of color scheme for unfitted estimators */\n",
       "  --sklearn-color-unfitted-level-0: #fff5e6;\n",
       "  --sklearn-color-unfitted-level-1: #f6e4d2;\n",
       "  --sklearn-color-unfitted-level-2: #ffe0b3;\n",
       "  --sklearn-color-unfitted-level-3: chocolate;\n",
       "  /* Definition of color scheme for fitted estimators */\n",
       "  --sklearn-color-fitted-level-0: #f0f8ff;\n",
       "  --sklearn-color-fitted-level-1: #d4ebff;\n",
       "  --sklearn-color-fitted-level-2: #b3dbfd;\n",
       "  --sklearn-color-fitted-level-3: cornflowerblue;\n",
       "\n",
       "  /* Specific color for light theme */\n",
       "  --sklearn-color-text-on-default-background: var(--sg-text-color, var(--theme-code-foreground, var(--jp-content-font-color1, black)));\n",
       "  --sklearn-color-background: var(--sg-background-color, var(--theme-background, var(--jp-layout-color0, white)));\n",
       "  --sklearn-color-border-box: var(--sg-text-color, var(--theme-code-foreground, var(--jp-content-font-color1, black)));\n",
       "  --sklearn-color-icon: #696969;\n",
       "\n",
       "  @media (prefers-color-scheme: dark) {\n",
       "    /* Redefinition of color scheme for dark theme */\n",
       "    --sklearn-color-text-on-default-background: var(--sg-text-color, var(--theme-code-foreground, var(--jp-content-font-color1, white)));\n",
       "    --sklearn-color-background: var(--sg-background-color, var(--theme-background, var(--jp-layout-color0, #111)));\n",
       "    --sklearn-color-border-box: var(--sg-text-color, var(--theme-code-foreground, var(--jp-content-font-color1, white)));\n",
       "    --sklearn-color-icon: #878787;\n",
       "  }\n",
       "}\n",
       "\n",
       "#sk-container-id-2 {\n",
       "  color: var(--sklearn-color-text);\n",
       "}\n",
       "\n",
       "#sk-container-id-2 pre {\n",
       "  padding: 0;\n",
       "}\n",
       "\n",
       "#sk-container-id-2 input.sk-hidden--visually {\n",
       "  border: 0;\n",
       "  clip: rect(1px 1px 1px 1px);\n",
       "  clip: rect(1px, 1px, 1px, 1px);\n",
       "  height: 1px;\n",
       "  margin: -1px;\n",
       "  overflow: hidden;\n",
       "  padding: 0;\n",
       "  position: absolute;\n",
       "  width: 1px;\n",
       "}\n",
       "\n",
       "#sk-container-id-2 div.sk-dashed-wrapped {\n",
       "  border: 1px dashed var(--sklearn-color-line);\n",
       "  margin: 0 0.4em 0.5em 0.4em;\n",
       "  box-sizing: border-box;\n",
       "  padding-bottom: 0.4em;\n",
       "  background-color: var(--sklearn-color-background);\n",
       "}\n",
       "\n",
       "#sk-container-id-2 div.sk-container {\n",
       "  /* jupyter's `normalize.less` sets `[hidden] { display: none; }`\n",
       "     but bootstrap.min.css set `[hidden] { display: none !important; }`\n",
       "     so we also need the `!important` here to be able to override the\n",
       "     default hidden behavior on the sphinx rendered scikit-learn.org.\n",
       "     See: https://github.com/scikit-learn/scikit-learn/issues/21755 */\n",
       "  display: inline-block !important;\n",
       "  position: relative;\n",
       "}\n",
       "\n",
       "#sk-container-id-2 div.sk-text-repr-fallback {\n",
       "  display: none;\n",
       "}\n",
       "\n",
       "div.sk-parallel-item,\n",
       "div.sk-serial,\n",
       "div.sk-item {\n",
       "  /* draw centered vertical line to link estimators */\n",
       "  background-image: linear-gradient(var(--sklearn-color-text-on-default-background), var(--sklearn-color-text-on-default-background));\n",
       "  background-size: 2px 100%;\n",
       "  background-repeat: no-repeat;\n",
       "  background-position: center center;\n",
       "}\n",
       "\n",
       "/* Parallel-specific style estimator block */\n",
       "\n",
       "#sk-container-id-2 div.sk-parallel-item::after {\n",
       "  content: \"\";\n",
       "  width: 100%;\n",
       "  border-bottom: 2px solid var(--sklearn-color-text-on-default-background);\n",
       "  flex-grow: 1;\n",
       "}\n",
       "\n",
       "#sk-container-id-2 div.sk-parallel {\n",
       "  display: flex;\n",
       "  align-items: stretch;\n",
       "  justify-content: center;\n",
       "  background-color: var(--sklearn-color-background);\n",
       "  position: relative;\n",
       "}\n",
       "\n",
       "#sk-container-id-2 div.sk-parallel-item {\n",
       "  display: flex;\n",
       "  flex-direction: column;\n",
       "}\n",
       "\n",
       "#sk-container-id-2 div.sk-parallel-item:first-child::after {\n",
       "  align-self: flex-end;\n",
       "  width: 50%;\n",
       "}\n",
       "\n",
       "#sk-container-id-2 div.sk-parallel-item:last-child::after {\n",
       "  align-self: flex-start;\n",
       "  width: 50%;\n",
       "}\n",
       "\n",
       "#sk-container-id-2 div.sk-parallel-item:only-child::after {\n",
       "  width: 0;\n",
       "}\n",
       "\n",
       "/* Serial-specific style estimator block */\n",
       "\n",
       "#sk-container-id-2 div.sk-serial {\n",
       "  display: flex;\n",
       "  flex-direction: column;\n",
       "  align-items: center;\n",
       "  background-color: var(--sklearn-color-background);\n",
       "  padding-right: 1em;\n",
       "  padding-left: 1em;\n",
       "}\n",
       "\n",
       "\n",
       "/* Toggleable style: style used for estimator/Pipeline/ColumnTransformer box that is\n",
       "clickable and can be expanded/collapsed.\n",
       "- Pipeline and ColumnTransformer use this feature and define the default style\n",
       "- Estimators will overwrite some part of the style using the `sk-estimator` class\n",
       "*/\n",
       "\n",
       "/* Pipeline and ColumnTransformer style (default) */\n",
       "\n",
       "#sk-container-id-2 div.sk-toggleable {\n",
       "  /* Default theme specific background. It is overwritten whether we have a\n",
       "  specific estimator or a Pipeline/ColumnTransformer */\n",
       "  background-color: var(--sklearn-color-background);\n",
       "}\n",
       "\n",
       "/* Toggleable label */\n",
       "#sk-container-id-2 label.sk-toggleable__label {\n",
       "  cursor: pointer;\n",
       "  display: flex;\n",
       "  width: 100%;\n",
       "  margin-bottom: 0;\n",
       "  padding: 0.5em;\n",
       "  box-sizing: border-box;\n",
       "  text-align: center;\n",
       "  align-items: start;\n",
       "  justify-content: space-between;\n",
       "  gap: 0.5em;\n",
       "}\n",
       "\n",
       "#sk-container-id-2 label.sk-toggleable__label .caption {\n",
       "  font-size: 0.6rem;\n",
       "  font-weight: lighter;\n",
       "  color: var(--sklearn-color-text-muted);\n",
       "}\n",
       "\n",
       "#sk-container-id-2 label.sk-toggleable__label-arrow:before {\n",
       "  /* Arrow on the left of the label */\n",
       "  content: \"▸\";\n",
       "  float: left;\n",
       "  margin-right: 0.25em;\n",
       "  color: var(--sklearn-color-icon);\n",
       "}\n",
       "\n",
       "#sk-container-id-2 label.sk-toggleable__label-arrow:hover:before {\n",
       "  color: var(--sklearn-color-text);\n",
       "}\n",
       "\n",
       "/* Toggleable content - dropdown */\n",
       "\n",
       "#sk-container-id-2 div.sk-toggleable__content {\n",
       "  max-height: 0;\n",
       "  max-width: 0;\n",
       "  overflow: hidden;\n",
       "  text-align: left;\n",
       "  /* unfitted */\n",
       "  background-color: var(--sklearn-color-unfitted-level-0);\n",
       "}\n",
       "\n",
       "#sk-container-id-2 div.sk-toggleable__content.fitted {\n",
       "  /* fitted */\n",
       "  background-color: var(--sklearn-color-fitted-level-0);\n",
       "}\n",
       "\n",
       "#sk-container-id-2 div.sk-toggleable__content pre {\n",
       "  margin: 0.2em;\n",
       "  border-radius: 0.25em;\n",
       "  color: var(--sklearn-color-text);\n",
       "  /* unfitted */\n",
       "  background-color: var(--sklearn-color-unfitted-level-0);\n",
       "}\n",
       "\n",
       "#sk-container-id-2 div.sk-toggleable__content.fitted pre {\n",
       "  /* unfitted */\n",
       "  background-color: var(--sklearn-color-fitted-level-0);\n",
       "}\n",
       "\n",
       "#sk-container-id-2 input.sk-toggleable__control:checked~div.sk-toggleable__content {\n",
       "  /* Expand drop-down */\n",
       "  max-height: 200px;\n",
       "  max-width: 100%;\n",
       "  overflow: auto;\n",
       "}\n",
       "\n",
       "#sk-container-id-2 input.sk-toggleable__control:checked~label.sk-toggleable__label-arrow:before {\n",
       "  content: \"▾\";\n",
       "}\n",
       "\n",
       "/* Pipeline/ColumnTransformer-specific style */\n",
       "\n",
       "#sk-container-id-2 div.sk-label input.sk-toggleable__control:checked~label.sk-toggleable__label {\n",
       "  color: var(--sklearn-color-text);\n",
       "  background-color: var(--sklearn-color-unfitted-level-2);\n",
       "}\n",
       "\n",
       "#sk-container-id-2 div.sk-label.fitted input.sk-toggleable__control:checked~label.sk-toggleable__label {\n",
       "  background-color: var(--sklearn-color-fitted-level-2);\n",
       "}\n",
       "\n",
       "/* Estimator-specific style */\n",
       "\n",
       "/* Colorize estimator box */\n",
       "#sk-container-id-2 div.sk-estimator input.sk-toggleable__control:checked~label.sk-toggleable__label {\n",
       "  /* unfitted */\n",
       "  background-color: var(--sklearn-color-unfitted-level-2);\n",
       "}\n",
       "\n",
       "#sk-container-id-2 div.sk-estimator.fitted input.sk-toggleable__control:checked~label.sk-toggleable__label {\n",
       "  /* fitted */\n",
       "  background-color: var(--sklearn-color-fitted-level-2);\n",
       "}\n",
       "\n",
       "#sk-container-id-2 div.sk-label label.sk-toggleable__label,\n",
       "#sk-container-id-2 div.sk-label label {\n",
       "  /* The background is the default theme color */\n",
       "  color: var(--sklearn-color-text-on-default-background);\n",
       "}\n",
       "\n",
       "/* On hover, darken the color of the background */\n",
       "#sk-container-id-2 div.sk-label:hover label.sk-toggleable__label {\n",
       "  color: var(--sklearn-color-text);\n",
       "  background-color: var(--sklearn-color-unfitted-level-2);\n",
       "}\n",
       "\n",
       "/* Label box, darken color on hover, fitted */\n",
       "#sk-container-id-2 div.sk-label.fitted:hover label.sk-toggleable__label.fitted {\n",
       "  color: var(--sklearn-color-text);\n",
       "  background-color: var(--sklearn-color-fitted-level-2);\n",
       "}\n",
       "\n",
       "/* Estimator label */\n",
       "\n",
       "#sk-container-id-2 div.sk-label label {\n",
       "  font-family: monospace;\n",
       "  font-weight: bold;\n",
       "  display: inline-block;\n",
       "  line-height: 1.2em;\n",
       "}\n",
       "\n",
       "#sk-container-id-2 div.sk-label-container {\n",
       "  text-align: center;\n",
       "}\n",
       "\n",
       "/* Estimator-specific */\n",
       "#sk-container-id-2 div.sk-estimator {\n",
       "  font-family: monospace;\n",
       "  border: 1px dotted var(--sklearn-color-border-box);\n",
       "  border-radius: 0.25em;\n",
       "  box-sizing: border-box;\n",
       "  margin-bottom: 0.5em;\n",
       "  /* unfitted */\n",
       "  background-color: var(--sklearn-color-unfitted-level-0);\n",
       "}\n",
       "\n",
       "#sk-container-id-2 div.sk-estimator.fitted {\n",
       "  /* fitted */\n",
       "  background-color: var(--sklearn-color-fitted-level-0);\n",
       "}\n",
       "\n",
       "/* on hover */\n",
       "#sk-container-id-2 div.sk-estimator:hover {\n",
       "  /* unfitted */\n",
       "  background-color: var(--sklearn-color-unfitted-level-2);\n",
       "}\n",
       "\n",
       "#sk-container-id-2 div.sk-estimator.fitted:hover {\n",
       "  /* fitted */\n",
       "  background-color: var(--sklearn-color-fitted-level-2);\n",
       "}\n",
       "\n",
       "/* Specification for estimator info (e.g. \"i\" and \"?\") */\n",
       "\n",
       "/* Common style for \"i\" and \"?\" */\n",
       "\n",
       ".sk-estimator-doc-link,\n",
       "a:link.sk-estimator-doc-link,\n",
       "a:visited.sk-estimator-doc-link {\n",
       "  float: right;\n",
       "  font-size: smaller;\n",
       "  line-height: 1em;\n",
       "  font-family: monospace;\n",
       "  background-color: var(--sklearn-color-background);\n",
       "  border-radius: 1em;\n",
       "  height: 1em;\n",
       "  width: 1em;\n",
       "  text-decoration: none !important;\n",
       "  margin-left: 0.5em;\n",
       "  text-align: center;\n",
       "  /* unfitted */\n",
       "  border: var(--sklearn-color-unfitted-level-1) 1pt solid;\n",
       "  color: var(--sklearn-color-unfitted-level-1);\n",
       "}\n",
       "\n",
       ".sk-estimator-doc-link.fitted,\n",
       "a:link.sk-estimator-doc-link.fitted,\n",
       "a:visited.sk-estimator-doc-link.fitted {\n",
       "  /* fitted */\n",
       "  border: var(--sklearn-color-fitted-level-1) 1pt solid;\n",
       "  color: var(--sklearn-color-fitted-level-1);\n",
       "}\n",
       "\n",
       "/* On hover */\n",
       "div.sk-estimator:hover .sk-estimator-doc-link:hover,\n",
       ".sk-estimator-doc-link:hover,\n",
       "div.sk-label-container:hover .sk-estimator-doc-link:hover,\n",
       ".sk-estimator-doc-link:hover {\n",
       "  /* unfitted */\n",
       "  background-color: var(--sklearn-color-unfitted-level-3);\n",
       "  color: var(--sklearn-color-background);\n",
       "  text-decoration: none;\n",
       "}\n",
       "\n",
       "div.sk-estimator.fitted:hover .sk-estimator-doc-link.fitted:hover,\n",
       ".sk-estimator-doc-link.fitted:hover,\n",
       "div.sk-label-container:hover .sk-estimator-doc-link.fitted:hover,\n",
       ".sk-estimator-doc-link.fitted:hover {\n",
       "  /* fitted */\n",
       "  background-color: var(--sklearn-color-fitted-level-3);\n",
       "  color: var(--sklearn-color-background);\n",
       "  text-decoration: none;\n",
       "}\n",
       "\n",
       "/* Span, style for the box shown on hovering the info icon */\n",
       ".sk-estimator-doc-link span {\n",
       "  display: none;\n",
       "  z-index: 9999;\n",
       "  position: relative;\n",
       "  font-weight: normal;\n",
       "  right: .2ex;\n",
       "  padding: .5ex;\n",
       "  margin: .5ex;\n",
       "  width: min-content;\n",
       "  min-width: 20ex;\n",
       "  max-width: 50ex;\n",
       "  color: var(--sklearn-color-text);\n",
       "  box-shadow: 2pt 2pt 4pt #999;\n",
       "  /* unfitted */\n",
       "  background: var(--sklearn-color-unfitted-level-0);\n",
       "  border: .5pt solid var(--sklearn-color-unfitted-level-3);\n",
       "}\n",
       "\n",
       ".sk-estimator-doc-link.fitted span {\n",
       "  /* fitted */\n",
       "  background: var(--sklearn-color-fitted-level-0);\n",
       "  border: var(--sklearn-color-fitted-level-3);\n",
       "}\n",
       "\n",
       ".sk-estimator-doc-link:hover span {\n",
       "  display: block;\n",
       "}\n",
       "\n",
       "/* \"?\"-specific style due to the `<a>` HTML tag */\n",
       "\n",
       "#sk-container-id-2 a.estimator_doc_link {\n",
       "  float: right;\n",
       "  font-size: 1rem;\n",
       "  line-height: 1em;\n",
       "  font-family: monospace;\n",
       "  background-color: var(--sklearn-color-background);\n",
       "  border-radius: 1rem;\n",
       "  height: 1rem;\n",
       "  width: 1rem;\n",
       "  text-decoration: none;\n",
       "  /* unfitted */\n",
       "  color: var(--sklearn-color-unfitted-level-1);\n",
       "  border: var(--sklearn-color-unfitted-level-1) 1pt solid;\n",
       "}\n",
       "\n",
       "#sk-container-id-2 a.estimator_doc_link.fitted {\n",
       "  /* fitted */\n",
       "  border: var(--sklearn-color-fitted-level-1) 1pt solid;\n",
       "  color: var(--sklearn-color-fitted-level-1);\n",
       "}\n",
       "\n",
       "/* On hover */\n",
       "#sk-container-id-2 a.estimator_doc_link:hover {\n",
       "  /* unfitted */\n",
       "  background-color: var(--sklearn-color-unfitted-level-3);\n",
       "  color: var(--sklearn-color-background);\n",
       "  text-decoration: none;\n",
       "}\n",
       "\n",
       "#sk-container-id-2 a.estimator_doc_link.fitted:hover {\n",
       "  /* fitted */\n",
       "  background-color: var(--sklearn-color-fitted-level-3);\n",
       "}\n",
       "</style><div id=\"sk-container-id-2\" class=\"sk-top-container\"><div class=\"sk-text-repr-fallback\"><pre>LogisticRegression()</pre><b>In a Jupyter environment, please rerun this cell to show the HTML representation or trust the notebook. <br />On GitHub, the HTML representation is unable to render, please try loading this page with nbviewer.org.</b></div><div class=\"sk-container\" hidden><div class=\"sk-item\"><div class=\"sk-estimator fitted sk-toggleable\"><input class=\"sk-toggleable__control sk-hidden--visually\" id=\"sk-estimator-id-2\" type=\"checkbox\" checked><label for=\"sk-estimator-id-2\" class=\"sk-toggleable__label fitted sk-toggleable__label-arrow\"><div><div>LogisticRegression</div></div><div><a class=\"sk-estimator-doc-link fitted\" rel=\"noreferrer\" target=\"_blank\" href=\"https://scikit-learn.org/1.6/modules/generated/sklearn.linear_model.LogisticRegression.html\">?<span>Documentation for LogisticRegression</span></a><span class=\"sk-estimator-doc-link fitted\">i<span>Fitted</span></span></div></label><div class=\"sk-toggleable__content fitted\"><pre>LogisticRegression()</pre></div> </div></div></div></div>"
      ],
      "text/plain": [
       "LogisticRegression()"
      ]
     },
     "execution_count": 31,
     "metadata": {},
     "output_type": "execute_result"
    }
   ],
   "source": [
    "# Train logistic regression model\n",
    "model = LogisticRegression()\n",
    "model.fit(X_train, y_train)"
   ]
  },
  {
   "cell_type": "code",
   "execution_count": 32,
   "metadata": {},
   "outputs": [
    {
     "name": "stdout",
     "output_type": "stream",
     "text": [
      "Accuracy: 0.8\n",
      "Confusion Matrix:\n",
      " [[2 2]\n",
      " [0 6]]\n"
     ]
    }
   ],
   "source": [
    "# Make predictions\n",
    "prediction = model.predict(X_test)\n",
    "\n",
    "# Evaluate performance\n",
    "print(\"Accuracy:\", accuracy_score(y_test, prediction))\n",
    "print(\"Confusion Matrix:\\n\", confusion_matrix(y_test, prediction))\n"
   ]
  },
  {
   "cell_type": "markdown",
   "metadata": {},
   "source": [
    "You are given an RNA-seq dataset (rna_seq_data.csv) with 1000 genes (rows) and 50 samples (columns).\n",
    "Each sample is labeled as 0 (healthy) or 1 (disease) in a separate file (labels.csv).\n",
    "\n",
    "Your task is to:\n",
    "\n",
    "Read the RNA-seq data and labels from the files.\n",
    "Select the top 100 most variable genes (based on standard deviation).\n",
    "Normalize the data using Z-score normalization.\n",
    "Split the dataset into training and testing sets (80/20 split).\n",
    "Train a Logistic Regression model to classify the samples.\n",
    "Save predictions to a new file (predictions.csv)."
   ]
  },
  {
   "cell_type": "code",
   "execution_count": 106,
   "metadata": {},
   "outputs": [
    {
     "data": {
      "text/plain": [
       "array([[0, 1],\n",
       "       [5, 4]])"
      ]
     },
     "execution_count": 106,
     "metadata": {},
     "output_type": "execute_result"
    }
   ],
   "source": [
    "import numpy as np\n",
    "import pandas as pd\n",
    "from sklearn.model_selection import train_test_split\n",
    "from sklearn.linear_model import LogisticRegression\n",
    "from sklearn.metrics import accuracy_score\n",
    "from sklearn.metrics import confusion_matrix\n",
    "from sklearn.preprocessing import StandardScaler\n",
    "\n",
    "np.random.seed(69) # set random seed for reproducability\n",
    "X = np.random.rand(1000, 50) * 100 # make the expression data\n",
    "y = np.random.choice([0, 1], size=50) # make labels for diseased or not\n",
    "\n",
    "stdev = np.std(X, axis = 1) # get stdev\n",
    "top_100_genes = np.argsort(stdev)[-100:] # get index for the top 100 genes\n",
    "X_filtered = X[top_100_genes, :] # get top 100 genes\n",
    "scaler = StandardScaler()\n",
    "normalized = scaler.fit_transform(X_filtered.T)\n",
    "X_train, X_test, y_train, y_test = train_test_split(normalized, y, test_size=.2, random_state=69)\n",
    "model = LogisticRegression()\n",
    "model = model.fit(X_train, y_train)\n",
    "prediction = model.predict(X_test)\n",
    "\n",
    "\n",
    "# Save predictions to a CSV file\n",
    "predictions_df = pd.DataFrame(prediction, columns=['Predictions'])\n",
    "predictions_df.to_csv('predictions.csv', index=False)\n",
    "\n",
    "\n",
    "\n",
    "accuracy_score(prediction, y_test)\n",
    "confusion_matrix(prediction, y_test)"
   ]
  },
  {
   "cell_type": "code",
   "execution_count": null,
   "metadata": {},
   "outputs": [
    {
     "data": {
      "text/plain": [
       "(50, 100)"
      ]
     },
     "execution_count": 135,
     "metadata": {},
     "output_type": "execute_result"
    }
   ],
   "source": [
    "np.random.seed(69)\n",
    "X = np.random.rand(50, 100) * 100\n",
    "y = np.random.choice([0,1], size=50)\n",
    "\n",
    "stdev = np.std(X, axis=1)\n",
    "top_100_genes = np.argsort(stdev)[-100:]\n",
    "filtered = X[top_100_genes]\n",
    "scaler = StandardScaler"
   ]
  },
  {
   "cell_type": "code",
   "execution_count": null,
   "metadata": {},
   "outputs": [],
   "source": []
  }
 ],
 "metadata": {
  "kernelspec": {
   "display_name": "Python 3",
   "language": "python",
   "name": "python3"
  },
  "language_info": {
   "codemirror_mode": {
    "name": "ipython",
    "version": 3
   },
   "file_extension": ".py",
   "mimetype": "text/x-python",
   "name": "python",
   "nbconvert_exporter": "python",
   "pygments_lexer": "ipython3",
   "version": "3.10.8"
  }
 },
 "nbformat": 4,
 "nbformat_minor": 2
}
