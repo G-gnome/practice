{
 "cells": [
  {
   "cell_type": "markdown",
   "metadata": {},
   "source": [
    "Write a Python function that takes a list of numbers and returns a new list containing only the even numbers, squared.\n"
   ]
  },
  {
   "cell_type": "code",
   "execution_count": null,
   "metadata": {},
   "outputs": [
    {
     "name": "stdout",
     "output_type": "stream",
     "text": [
      "[4, 16, 36]\n"
     ]
    }
   ],
   "source": [
    "# my answer\n",
    "nums = [1, 2, 3, 4, 5, 6]\n",
    "output = []\n",
    "\n",
    "for num in nums:\n",
    "    if num % 2 == 0:\n",
    "        output.append(num * num)\n",
    "print(output)"
   ]
  },
  {
   "cell_type": "code",
   "execution_count": 1,
   "metadata": {},
   "outputs": [
    {
     "name": "stdout",
     "output_type": "stream",
     "text": [
      "[4, 16, 36]\n"
     ]
    }
   ],
   "source": [
    "# Better answer\n",
    "nums = [1, 2, 3, 4, 5, 6]\n",
    "output = [num * num for num in nums if num % 2 == 0]\n",
    "print(output)"
   ]
  },
  {
   "cell_type": "code",
   "execution_count": null,
   "metadata": {},
   "outputs": [
    {
     "name": "stdout",
     "output_type": "stream",
     "text": [
      "{'Bob': 85, 'Charlie': 105}\n"
     ]
    }
   ],
   "source": [
    "students = {\n",
    "    \"Alice\": 55,\n",
    "    \"Bob\": 75,\n",
    "    \"Charlie\": 95,\n",
    "    \"David\": 40\n",
    "}\n",
    "\n",
    "output = {}\n",
    "\n",
    "for student, grade in students.items():\n",
    "    if grade >= 60:\n",
    "        output[student] = grade + 10\n",
    "print(output)\n"
   ]
  },
  {
   "cell_type": "code",
   "execution_count": 18,
   "metadata": {},
   "outputs": [
    {
     "name": "stdout",
     "output_type": "stream",
     "text": [
      "aceg\n"
     ]
    }
   ],
   "source": [
    "input_string = \"abcdefg\"\n",
    "empty_string = \"\"\n",
    "i = 0\n",
    "\n",
    "for letter in input_string:\n",
    "    if i % 2 == 0: \n",
    "        empty_string += letter\n",
    "    i += 1\n",
    "print(empty_string)"
   ]
  },
  {
   "cell_type": "markdown",
   "metadata": {},
   "source": [
    "numbers = [1, 2, 3, 4, 5, 6, 7, 8, 9]\n"
   ]
  }
 ],
 "metadata": {
  "kernelspec": {
   "display_name": "Python 3",
   "language": "python",
   "name": "python3"
  },
  "language_info": {
   "codemirror_mode": {
    "name": "ipython",
    "version": 3
   },
   "file_extension": ".py",
   "mimetype": "text/x-python",
   "name": "python",
   "nbconvert_exporter": "python",
   "pygments_lexer": "ipython3",
   "version": "3.6.8"
  }
 },
 "nbformat": 4,
 "nbformat_minor": 2
}
